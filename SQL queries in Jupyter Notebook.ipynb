{
 "cells": [
  {
   "cell_type": "code",
   "execution_count": 2,
   "metadata": {
    "id": "nlZBlglMDWKe"
   },
   "outputs": [],
   "source": [
    "import pandas as pd\n",
    "import matplotlib.pyplot as plt\n",
    "from sqlalchemy import create_engine \n",
    "import numpy as np\n",
    "import calendar"
   ]
  },
  {
   "cell_type": "markdown",
   "metadata": {
    "id": "XnOE3n28DWKg"
   },
   "source": [
    "### Конфигурация для подключения к базе данных `data-analyst-advanced-sql`\n",
    "Эта база данных содержит схему `stackoverflow`, для работы в проекте"
   ]
  },
  {
   "cell_type": "code",
   "execution_count": 3,
   "metadata": {
    "id": "6p-yGp7qDWKg"
   },
   "outputs": [],
   "source": [
    "# Установим параметры подключения к базе данных\n",
    "\n",
    "db_config = {\n",
    "    'user': 'praktikum_student',\n",
    "    'pwd': 'Sdf4$2;d-d30pp',\n",
    "    'host': 'rc1b-wcoijxj3yxfsf3fs.mdb.yandexcloud.net',\n",
    "    'port': 6432,\n",
    "    'db': 'data-analyst-advanced-sql'\n",
    "} \n",
    "\n",
    "# Формируем строку соединения с БД\n",
    "\n",
    "connection_string = 'postgresql://{}:{}@{}:{}/{}'.format(\n",
    "    db_config['user'],\n",
    "    db_config['pwd'],\n",
    "    db_config['host'],\n",
    "    db_config['port'],\n",
    "    db_config['db']\n",
    ")"
   ]
  },
  {
   "cell_type": "markdown",
   "metadata": {
    "id": "2Rg8ZpS0DWKh"
   },
   "source": [
    "Создание подключения"
   ]
  },
  {
   "cell_type": "code",
   "execution_count": 4,
   "metadata": {
    "id": "DamCUTR6DWKi"
   },
   "outputs": [],
   "source": [
    "# Создаем движок\n",
    "\n",
    "engine = create_engine(connection_string)"
   ]
  },
  {
   "cell_type": "markdown",
   "metadata": {
    "id": "bel8XeSlDWKj"
   },
   "source": [
    "Пример запроса к базе данных\n",
    "\n",
    "`sample_df` является pandas-датафреймом."
   ]
  },
  {
   "cell_type": "code",
   "execution_count": 5,
   "metadata": {
    "id": "6Z_fw0yLDWKk"
   },
   "outputs": [],
   "source": [
    "query = '''\n",
    "SELECT *\n",
    "FROM stackoverflow.users\n",
    "LIMIT 10;\n",
    "'''\n",
    "\n",
    "sample_df = pd.read_sql_query(query, con=engine) "
   ]
  },
  {
   "cell_type": "code",
   "execution_count": 6,
   "metadata": {
    "id": "ZpuZ290oDWKk",
    "outputId": "22785a0a-e2bc-4559-ec3c-4879c4b377eb"
   },
   "outputs": [
    {
     "data": {
      "text/html": [
       "<div>\n",
       "<style scoped>\n",
       "    .dataframe tbody tr th:only-of-type {\n",
       "        vertical-align: middle;\n",
       "    }\n",
       "\n",
       "    .dataframe tbody tr th {\n",
       "        vertical-align: top;\n",
       "    }\n",
       "\n",
       "    .dataframe thead th {\n",
       "        text-align: right;\n",
       "    }\n",
       "</style>\n",
       "<table border=\"1\" class=\"dataframe\">\n",
       "  <thead>\n",
       "    <tr style=\"text-align: right;\">\n",
       "      <th></th>\n",
       "      <th>id</th>\n",
       "      <th>creation_date</th>\n",
       "      <th>display_name</th>\n",
       "      <th>last_access_date</th>\n",
       "      <th>location</th>\n",
       "      <th>reputation</th>\n",
       "      <th>views</th>\n",
       "    </tr>\n",
       "  </thead>\n",
       "  <tbody>\n",
       "    <tr>\n",
       "      <th>0</th>\n",
       "      <td>1</td>\n",
       "      <td>2008-07-31 14:22:31</td>\n",
       "      <td>Jeff Atwood</td>\n",
       "      <td>2018-08-29 02:34:23</td>\n",
       "      <td>El Cerrito, CA</td>\n",
       "      <td>44300</td>\n",
       "      <td>408587</td>\n",
       "    </tr>\n",
       "    <tr>\n",
       "      <th>1</th>\n",
       "      <td>2</td>\n",
       "      <td>2008-07-31 14:22:31</td>\n",
       "      <td>Geoff Dalgas</td>\n",
       "      <td>2018-08-23 17:31:56</td>\n",
       "      <td>Corvallis, OR</td>\n",
       "      <td>3491</td>\n",
       "      <td>23966</td>\n",
       "    </tr>\n",
       "    <tr>\n",
       "      <th>2</th>\n",
       "      <td>3</td>\n",
       "      <td>2008-07-31 14:22:31</td>\n",
       "      <td>Jarrod Dixon</td>\n",
       "      <td>2018-08-30 20:56:24</td>\n",
       "      <td>Raleigh, NC, United States</td>\n",
       "      <td>13418</td>\n",
       "      <td>24396</td>\n",
       "    </tr>\n",
       "    <tr>\n",
       "      <th>3</th>\n",
       "      <td>4</td>\n",
       "      <td>2008-07-31 14:22:31</td>\n",
       "      <td>Joel Spolsky</td>\n",
       "      <td>2018-08-14 22:18:15</td>\n",
       "      <td>New York, NY</td>\n",
       "      <td>28768</td>\n",
       "      <td>73755</td>\n",
       "    </tr>\n",
       "    <tr>\n",
       "      <th>4</th>\n",
       "      <td>5</td>\n",
       "      <td>2008-07-31 14:22:31</td>\n",
       "      <td>Jon Galloway</td>\n",
       "      <td>2018-08-29 16:48:36</td>\n",
       "      <td>San Diego, CA</td>\n",
       "      <td>39172</td>\n",
       "      <td>11700</td>\n",
       "    </tr>\n",
       "    <tr>\n",
       "      <th>5</th>\n",
       "      <td>8</td>\n",
       "      <td>2008-07-31 21:33:24</td>\n",
       "      <td>Eggs McLaren</td>\n",
       "      <td>2018-04-09 02:04:56</td>\n",
       "      <td>None</td>\n",
       "      <td>942</td>\n",
       "      <td>6372</td>\n",
       "    </tr>\n",
       "    <tr>\n",
       "      <th>6</th>\n",
       "      <td>9</td>\n",
       "      <td>2008-07-31 21:35:27</td>\n",
       "      <td>Kevin Dente</td>\n",
       "      <td>2018-08-30 18:18:03</td>\n",
       "      <td>Oakland, CA</td>\n",
       "      <td>14337</td>\n",
       "      <td>4949</td>\n",
       "    </tr>\n",
       "    <tr>\n",
       "      <th>7</th>\n",
       "      <td>11</td>\n",
       "      <td>2008-08-01 00:59:11</td>\n",
       "      <td>Anonymous User</td>\n",
       "      <td>2008-08-01 00:59:11</td>\n",
       "      <td>None</td>\n",
       "      <td>1890</td>\n",
       "      <td>2123</td>\n",
       "    </tr>\n",
       "    <tr>\n",
       "      <th>8</th>\n",
       "      <td>13</td>\n",
       "      <td>2008-08-01 04:18:05</td>\n",
       "      <td>Chris Jester-Young</td>\n",
       "      <td>2018-08-30 02:47:23</td>\n",
       "      <td>Raleigh, NC, United States</td>\n",
       "      <td>177138</td>\n",
       "      <td>35414</td>\n",
       "    </tr>\n",
       "    <tr>\n",
       "      <th>9</th>\n",
       "      <td>17</td>\n",
       "      <td>2008-08-01 12:02:22</td>\n",
       "      <td>Nick Berardi</td>\n",
       "      <td>2018-01-22 01:35:38</td>\n",
       "      <td>Issaquah, WA</td>\n",
       "      <td>44443</td>\n",
       "      <td>4786</td>\n",
       "    </tr>\n",
       "  </tbody>\n",
       "</table>\n",
       "</div>"
      ],
      "text/plain": [
       "   id       creation_date        display_name    last_access_date  \\\n",
       "0   1 2008-07-31 14:22:31         Jeff Atwood 2018-08-29 02:34:23   \n",
       "1   2 2008-07-31 14:22:31        Geoff Dalgas 2018-08-23 17:31:56   \n",
       "2   3 2008-07-31 14:22:31        Jarrod Dixon 2018-08-30 20:56:24   \n",
       "3   4 2008-07-31 14:22:31        Joel Spolsky 2018-08-14 22:18:15   \n",
       "4   5 2008-07-31 14:22:31        Jon Galloway 2018-08-29 16:48:36   \n",
       "5   8 2008-07-31 21:33:24        Eggs McLaren 2018-04-09 02:04:56   \n",
       "6   9 2008-07-31 21:35:27         Kevin Dente 2018-08-30 18:18:03   \n",
       "7  11 2008-08-01 00:59:11      Anonymous User 2008-08-01 00:59:11   \n",
       "8  13 2008-08-01 04:18:05  Chris Jester-Young 2018-08-30 02:47:23   \n",
       "9  17 2008-08-01 12:02:22        Nick Berardi 2018-01-22 01:35:38   \n",
       "\n",
       "                     location  reputation   views  \n",
       "0              El Cerrito, CA       44300  408587  \n",
       "1               Corvallis, OR        3491   23966  \n",
       "2  Raleigh, NC, United States       13418   24396  \n",
       "3                New York, NY       28768   73755  \n",
       "4               San Diego, CA       39172   11700  \n",
       "5                        None         942    6372  \n",
       "6                 Oakland, CA       14337    4949  \n",
       "7                        None        1890    2123  \n",
       "8  Raleigh, NC, United States      177138   35414  \n",
       "9                Issaquah, WA       44443    4786  "
      ]
     },
     "execution_count": 6,
     "metadata": {},
     "output_type": "execute_result"
    }
   ],
   "source": [
    "sample_df"
   ]
  },
  {
   "cell_type": "markdown",
   "metadata": {
    "id": "vHsfOrrNDWKn"
   },
   "source": [
    "Вывести общую сумму просмотров постов за каждый месяц 2008 года. Если данных за какой-либо месяц в базе нет, такой месяц можно пропустить. Результат отсортировать по убыванию общего количества просмотров."
   ]
  },
  {
   "cell_type": "markdown",
   "metadata": {
    "id": "N5rTgGNmDWKn"
   },
   "source": [
    "| month_date  | total_views |\n",
    "| ------------- | ------------- |\n",
    "| 2008-09-01  | 452928568  |\n",
    "| 2008-10-01  | 365400138  |\n",
    "| ...         | ... |"
   ]
  },
  {
   "cell_type": "code",
   "execution_count": 7,
   "metadata": {
    "id": "eWvykcXTDWKo"
   },
   "outputs": [
    {
     "data": {
      "text/html": [
       "<div>\n",
       "<style scoped>\n",
       "    .dataframe tbody tr th:only-of-type {\n",
       "        vertical-align: middle;\n",
       "    }\n",
       "\n",
       "    .dataframe tbody tr th {\n",
       "        vertical-align: top;\n",
       "    }\n",
       "\n",
       "    .dataframe thead th {\n",
       "        text-align: right;\n",
       "    }\n",
       "</style>\n",
       "<table border=\"1\" class=\"dataframe\">\n",
       "  <thead>\n",
       "    <tr style=\"text-align: right;\">\n",
       "      <th></th>\n",
       "      <th>month_date</th>\n",
       "      <th>total_views</th>\n",
       "    </tr>\n",
       "  </thead>\n",
       "  <tbody>\n",
       "    <tr>\n",
       "      <th>0</th>\n",
       "      <td>2008-09-01</td>\n",
       "      <td>452928568</td>\n",
       "    </tr>\n",
       "    <tr>\n",
       "      <th>1</th>\n",
       "      <td>2008-10-01</td>\n",
       "      <td>365400138</td>\n",
       "    </tr>\n",
       "    <tr>\n",
       "      <th>2</th>\n",
       "      <td>2008-11-01</td>\n",
       "      <td>221759651</td>\n",
       "    </tr>\n",
       "    <tr>\n",
       "      <th>3</th>\n",
       "      <td>2008-12-01</td>\n",
       "      <td>197792841</td>\n",
       "    </tr>\n",
       "    <tr>\n",
       "      <th>4</th>\n",
       "      <td>2008-08-01</td>\n",
       "      <td>131367083</td>\n",
       "    </tr>\n",
       "    <tr>\n",
       "      <th>5</th>\n",
       "      <td>2008-07-01</td>\n",
       "      <td>669895</td>\n",
       "    </tr>\n",
       "  </tbody>\n",
       "</table>\n",
       "</div>"
      ],
      "text/plain": [
       "  month_date  total_views\n",
       "0 2008-09-01    452928568\n",
       "1 2008-10-01    365400138\n",
       "2 2008-11-01    221759651\n",
       "3 2008-12-01    197792841\n",
       "4 2008-08-01    131367083\n",
       "5 2008-07-01       669895"
      ]
     },
     "metadata": {},
     "output_type": "display_data"
    }
   ],
   "source": [
    "query = '''\n",
    "SELECT \n",
    "    DATE_TRUNC('month', p.creation_date) AS month_date,\n",
    "    SUM(p.views_count) AS total_views\n",
    "FROM \n",
    "    stackoverflow.posts p\n",
    "WHERE \n",
    "    EXTRACT(year FROM p.creation_date) = 2008\n",
    "GROUP BY \n",
    "    1\n",
    "ORDER BY \n",
    "    2 DESC;\n",
    "'''\n",
    "\n",
    "df = pd.read_sql(query, con=engine)\n",
    "\n",
    "display(df)"
   ]
  },
  {
   "cell_type": "markdown",
   "metadata": {
    "id": "luxSj17oDWKq"
   },
   "source": [
    "`Данные за разные месяцы отличаются. Например, число просмотров в сентябре 2008 года составляет 452 928 568, в то время как число просмотров в июле 2008 года составляет всего 669 895`  \n",
    "\n",
    "### Отличия могут быть связаны с разными факторами, например:  \n",
    "\n",
    "* Количество опубликованных постов: возможно, что в одни месяцы пользователи сайта публиковали больше вопросов или ответов, чем в другие месяцы  \n",
    "* Актуальность тематики: в некоторых месяцах могли быть более актуальные темы для пользователей, которые привлекали большее количество просмотров  \n",
    "* Сезонность: некоторые темы могут быть более актуальны в определенное время года, что может влиять на количество просмотров в конкретный месяц  \n",
    "* Различия между днями недели: количество просмотров может быть выше или ниже в зависимости от дня недели (например, в выходные дни может быть меньше просмотров)  \n",
    "\n",
    "Это лишь несколько возможных причин различий в количестве просмотров за разные месяцы, поэтому необходимо проанализировать дополнительные данные и провести более детальное исследование"
   ]
  },
  {
   "cell_type": "markdown",
   "metadata": {
    "id": "fTGESZvYDWKr"
   },
   "source": [
    "Нужно вывести имена самых активных пользователей, которые в первый месяц после регистрации (включая день регистрации) дали больше 100 ответов. Вопросы, которые задавали пользователи, не учитывайте. Для каждого имени пользователя вывести количество уникальных значений `user_id`. Отсортировать результат по полю с именами в лексикографическом порядке."
   ]
  },
  {
   "cell_type": "markdown",
   "metadata": {
    "id": "W5-tv6Y3DWKs"
   },
   "source": [
    "| display_name | count |\n",
    "| ------------ | ----- |\n",
    "| 1800 INFORMATION | 1 |\n",
    "| Adam Bellaire | 1 |\n",
    "| Adam Davis | 1 |\n",
    "| ... | ... |"
   ]
  },
  {
   "cell_type": "code",
   "execution_count": 8,
   "metadata": {
    "id": "fIO-y-YjDWKt"
   },
   "outputs": [
    {
     "data": {
      "text/html": [
       "<div>\n",
       "<style scoped>\n",
       "    .dataframe tbody tr th:only-of-type {\n",
       "        vertical-align: middle;\n",
       "    }\n",
       "\n",
       "    .dataframe tbody tr th {\n",
       "        vertical-align: top;\n",
       "    }\n",
       "\n",
       "    .dataframe thead th {\n",
       "        text-align: right;\n",
       "    }\n",
       "</style>\n",
       "<table border=\"1\" class=\"dataframe\">\n",
       "  <thead>\n",
       "    <tr style=\"text-align: right;\">\n",
       "      <th></th>\n",
       "      <th>display_name</th>\n",
       "      <th>count</th>\n",
       "    </tr>\n",
       "  </thead>\n",
       "  <tbody>\n",
       "    <tr>\n",
       "      <th>0</th>\n",
       "      <td>1800 INFORMATION</td>\n",
       "      <td>1</td>\n",
       "    </tr>\n",
       "    <tr>\n",
       "      <th>1</th>\n",
       "      <td>Adam Bellaire</td>\n",
       "      <td>1</td>\n",
       "    </tr>\n",
       "    <tr>\n",
       "      <th>2</th>\n",
       "      <td>Adam Davis</td>\n",
       "      <td>1</td>\n",
       "    </tr>\n",
       "    <tr>\n",
       "      <th>3</th>\n",
       "      <td>Adam Liss</td>\n",
       "      <td>1</td>\n",
       "    </tr>\n",
       "    <tr>\n",
       "      <th>4</th>\n",
       "      <td>Alan</td>\n",
       "      <td>8</td>\n",
       "    </tr>\n",
       "    <tr>\n",
       "      <th>...</th>\n",
       "      <td>...</td>\n",
       "      <td>...</td>\n",
       "    </tr>\n",
       "    <tr>\n",
       "      <th>71</th>\n",
       "      <td>leppie</td>\n",
       "      <td>1</td>\n",
       "    </tr>\n",
       "    <tr>\n",
       "      <th>72</th>\n",
       "      <td>lomaxx</td>\n",
       "      <td>1</td>\n",
       "    </tr>\n",
       "    <tr>\n",
       "      <th>73</th>\n",
       "      <td>mattlant</td>\n",
       "      <td>1</td>\n",
       "    </tr>\n",
       "    <tr>\n",
       "      <th>74</th>\n",
       "      <td>paxdiablo</td>\n",
       "      <td>1</td>\n",
       "    </tr>\n",
       "    <tr>\n",
       "      <th>75</th>\n",
       "      <td>tzot</td>\n",
       "      <td>1</td>\n",
       "    </tr>\n",
       "  </tbody>\n",
       "</table>\n",
       "<p>76 rows × 2 columns</p>\n",
       "</div>"
      ],
      "text/plain": [
       "        display_name  count\n",
       "0   1800 INFORMATION      1\n",
       "1      Adam Bellaire      1\n",
       "2         Adam Davis      1\n",
       "3          Adam Liss      1\n",
       "4               Alan      8\n",
       "..               ...    ...\n",
       "71            leppie      1\n",
       "72            lomaxx      1\n",
       "73          mattlant      1\n",
       "74         paxdiablo      1\n",
       "75              tzot      1\n",
       "\n",
       "[76 rows x 2 columns]"
      ]
     },
     "metadata": {},
     "output_type": "display_data"
    }
   ],
   "source": [
    "# напишите запрос\n",
    "query = '''\n",
    "SELECT u.display_name, COUNT(DISTINCT p.user_id) AS count\n",
    "FROM stackoverflow.users u\n",
    "JOIN stackoverflow.posts p ON p.user_id = u.id\n",
    "WHERE p.creation_date <= u.creation_date + INTERVAL '1 month' AND p.post_type_id = 2\n",
    "GROUP BY u.display_name\n",
    "HAVING COUNT(*) > 100\n",
    "ORDER BY u.display_name;\n",
    "'''\n",
    "\n",
    "df = pd.read_sql(query, con=engine)\n",
    "\n",
    "display(df)"
   ]
  },
  {
   "cell_type": "markdown",
   "metadata": {
    "id": "CEIGGQ6ODWKy"
   },
   "source": [
    "`Из аномалий можно отметить количество дубликатов в users_id` Возможно один и тот же пользователь регистрировался повторно"
   ]
  },
  {
   "cell_type": "markdown",
   "metadata": {
    "id": "IS6xPqyyDWKu"
   },
   "source": [
    "Вывести количество постов за 2008 год по месяцам. Отберать посты от пользователей, которые зарегистрировались в сентябре 2008 года и сделали хотя бы один пост в декабре того же года. Отсортировать таблицу по значению месяца по убыванию."
   ]
  },
  {
   "cell_type": "markdown",
   "metadata": {
    "id": "WmjhjV2xDWKv"
   },
   "source": [
    "| month | count |\n",
    "| ------|------ |\n",
    "| 2008-12-01 | 17641 |\n",
    "| 2008-11-01 | 18294 |\n",
    "| ... | ... |"
   ]
  },
  {
   "cell_type": "code",
   "execution_count": 9,
   "metadata": {
    "id": "kVu0FB8WDWKv"
   },
   "outputs": [
    {
     "data": {
      "text/html": [
       "<div>\n",
       "<style scoped>\n",
       "    .dataframe tbody tr th:only-of-type {\n",
       "        vertical-align: middle;\n",
       "    }\n",
       "\n",
       "    .dataframe tbody tr th {\n",
       "        vertical-align: top;\n",
       "    }\n",
       "\n",
       "    .dataframe thead th {\n",
       "        text-align: right;\n",
       "    }\n",
       "</style>\n",
       "<table border=\"1\" class=\"dataframe\">\n",
       "  <thead>\n",
       "    <tr style=\"text-align: right;\">\n",
       "      <th></th>\n",
       "      <th>month</th>\n",
       "      <th>count</th>\n",
       "    </tr>\n",
       "  </thead>\n",
       "  <tbody>\n",
       "    <tr>\n",
       "      <th>0</th>\n",
       "      <td>2008-12-01</td>\n",
       "      <td>17641</td>\n",
       "    </tr>\n",
       "    <tr>\n",
       "      <th>1</th>\n",
       "      <td>2008-11-01</td>\n",
       "      <td>18294</td>\n",
       "    </tr>\n",
       "    <tr>\n",
       "      <th>2</th>\n",
       "      <td>2008-10-01</td>\n",
       "      <td>27171</td>\n",
       "    </tr>\n",
       "    <tr>\n",
       "      <th>3</th>\n",
       "      <td>2008-09-01</td>\n",
       "      <td>24870</td>\n",
       "    </tr>\n",
       "    <tr>\n",
       "      <th>4</th>\n",
       "      <td>2008-08-01</td>\n",
       "      <td>32</td>\n",
       "    </tr>\n",
       "  </tbody>\n",
       "</table>\n",
       "</div>"
      ],
      "text/plain": [
       "       month  count\n",
       "0 2008-12-01  17641\n",
       "1 2008-11-01  18294\n",
       "2 2008-10-01  27171\n",
       "3 2008-09-01  24870\n",
       "4 2008-08-01     32"
      ]
     },
     "metadata": {},
     "output_type": "display_data"
    }
   ],
   "source": [
    "# напишите запрос\n",
    "query = '''\n",
    "SELECT DATE_TRUNC('month', p.creation_date) AS month, COUNT(*) AS count\n",
    "FROM stackoverflow.posts p\n",
    "WHERE p.creation_date >= '2008-01-01' AND p.creation_date < '2009-01-01'\n",
    "  AND p.user_id IN (\n",
    "    SELECT DISTINCT p2.user_id\n",
    "    FROM stackoverflow.posts p2\n",
    "    WHERE p2.creation_date >= '2008-12-01' AND p2.creation_date < '2009-01-01'\n",
    "  )\n",
    "  AND p.user_id IN (\n",
    "    SELECT id\n",
    "    FROM stackoverflow.users\n",
    "    WHERE creation_date >= '2008-09-01' AND creation_date < '2008-10-01'\n",
    "  )\n",
    "GROUP BY month\n",
    "ORDER BY month DESC\n",
    "'''\n",
    "df = pd.read_sql(query, con=engine)\n",
    "\n",
    "display(df)"
   ]
  },
  {
   "cell_type": "markdown",
   "metadata": {
    "id": "5Pcizm0DDWKz"
   },
   "source": [
    "# Задание 4"
   ]
  },
  {
   "cell_type": "markdown",
   "metadata": {
    "id": "KUZPF6vHDWKz"
   },
   "source": [
    "Используя данные о постах, вывести несколько полей:\n",
    "\n",
    "- идентификатор пользователя, который написал пост;\n",
    "- дата создания поста;\n",
    "- количество просмотров у текущего поста;\n",
    "- сумму просмотров постов автора с накоплением.\n",
    "\n",
    "Данные в таблице должны быть отсортированы по возрастанию идентификаторов пользователей, а данные об одном и том же пользователе — по возрастанию даты создания поста."
   ]
  },
  {
   "cell_type": "markdown",
   "metadata": {
    "id": "ZpsTUVDYDWK0"
   },
   "source": [
    "| user_id | creation_date | views_count | cumulative_count |\n",
    "| ------ | -------------- | ----------- | ---------------- |\n",
    "| 1 | 2008-07-31 23:41:00  | 480476   | 480476  |\n",
    "| 1 | 2008-07-31 23:55:38  | 136033 | 616509  | \n",
    "| 1 | 2008-07-31 23:56:41  | 0 |  616509  |\n",
    "| ... | ... | ... | ... |\n",
    "| 2 | 2008-07-31 23:56:41 | 79087  | 79087 |\n",
    "| 2 | 2008-08-01 05:09:56 | 65443 | 144530 |\n",
    "| ... | ...  | ...  | ...  |"
   ]
  },
  {
   "cell_type": "code",
   "execution_count": 10,
   "metadata": {
    "id": "hDoJhMzfDWK0"
   },
   "outputs": [
    {
     "data": {
      "text/html": [
       "<div>\n",
       "<style scoped>\n",
       "    .dataframe tbody tr th:only-of-type {\n",
       "        vertical-align: middle;\n",
       "    }\n",
       "\n",
       "    .dataframe tbody tr th {\n",
       "        vertical-align: top;\n",
       "    }\n",
       "\n",
       "    .dataframe thead th {\n",
       "        text-align: right;\n",
       "    }\n",
       "</style>\n",
       "<table border=\"1\" class=\"dataframe\">\n",
       "  <thead>\n",
       "    <tr style=\"text-align: right;\">\n",
       "      <th></th>\n",
       "      <th>user_id</th>\n",
       "      <th>creation_date</th>\n",
       "      <th>views_count</th>\n",
       "      <th>cumulative_count</th>\n",
       "    </tr>\n",
       "  </thead>\n",
       "  <tbody>\n",
       "    <tr>\n",
       "      <th>0</th>\n",
       "      <td>1</td>\n",
       "      <td>2008-07-31 23:41:00</td>\n",
       "      <td>480476</td>\n",
       "      <td>480476</td>\n",
       "    </tr>\n",
       "    <tr>\n",
       "      <th>1</th>\n",
       "      <td>1</td>\n",
       "      <td>2008-07-31 23:55:38</td>\n",
       "      <td>136033</td>\n",
       "      <td>616509</td>\n",
       "    </tr>\n",
       "    <tr>\n",
       "      <th>2</th>\n",
       "      <td>1</td>\n",
       "      <td>2008-07-31 23:56:41</td>\n",
       "      <td>0</td>\n",
       "      <td>616509</td>\n",
       "    </tr>\n",
       "    <tr>\n",
       "      <th>3</th>\n",
       "      <td>1</td>\n",
       "      <td>2008-08-04 02:45:08</td>\n",
       "      <td>0</td>\n",
       "      <td>616509</td>\n",
       "    </tr>\n",
       "    <tr>\n",
       "      <th>4</th>\n",
       "      <td>1</td>\n",
       "      <td>2008-08-04 04:31:03</td>\n",
       "      <td>0</td>\n",
       "      <td>616509</td>\n",
       "    </tr>\n",
       "    <tr>\n",
       "      <th>...</th>\n",
       "      <td>...</td>\n",
       "      <td>...</td>\n",
       "      <td>...</td>\n",
       "      <td>...</td>\n",
       "    </tr>\n",
       "    <tr>\n",
       "      <th>243791</th>\n",
       "      <td>5696608</td>\n",
       "      <td>2008-12-23 16:00:37</td>\n",
       "      <td>0</td>\n",
       "      <td>2804</td>\n",
       "    </tr>\n",
       "    <tr>\n",
       "      <th>243792</th>\n",
       "      <td>5696608</td>\n",
       "      <td>2008-12-23 17:35:09</td>\n",
       "      <td>0</td>\n",
       "      <td>2804</td>\n",
       "    </tr>\n",
       "    <tr>\n",
       "      <th>243793</th>\n",
       "      <td>5696608</td>\n",
       "      <td>2008-12-24 01:02:48</td>\n",
       "      <td>0</td>\n",
       "      <td>2804</td>\n",
       "    </tr>\n",
       "    <tr>\n",
       "      <th>243794</th>\n",
       "      <td>5696608</td>\n",
       "      <td>2008-12-30 14:34:45</td>\n",
       "      <td>0</td>\n",
       "      <td>2804</td>\n",
       "    </tr>\n",
       "    <tr>\n",
       "      <th>243795</th>\n",
       "      <td>5696608</td>\n",
       "      <td>2008-12-30 16:32:12</td>\n",
       "      <td>0</td>\n",
       "      <td>2804</td>\n",
       "    </tr>\n",
       "  </tbody>\n",
       "</table>\n",
       "<p>243796 rows × 4 columns</p>\n",
       "</div>"
      ],
      "text/plain": [
       "        user_id       creation_date  views_count  cumulative_count\n",
       "0             1 2008-07-31 23:41:00       480476            480476\n",
       "1             1 2008-07-31 23:55:38       136033            616509\n",
       "2             1 2008-07-31 23:56:41            0            616509\n",
       "3             1 2008-08-04 02:45:08            0            616509\n",
       "4             1 2008-08-04 04:31:03            0            616509\n",
       "...         ...                 ...          ...               ...\n",
       "243791  5696608 2008-12-23 16:00:37            0              2804\n",
       "243792  5696608 2008-12-23 17:35:09            0              2804\n",
       "243793  5696608 2008-12-24 01:02:48            0              2804\n",
       "243794  5696608 2008-12-30 14:34:45            0              2804\n",
       "243795  5696608 2008-12-30 16:32:12            0              2804\n",
       "\n",
       "[243796 rows x 4 columns]"
      ]
     },
     "metadata": {},
     "output_type": "display_data"
    }
   ],
   "source": [
    "# напишите запрос\n",
    "query = '''\n",
    "SELECT\n",
    "  user_id,\n",
    "  creation_date,\n",
    "  views_count,\n",
    "  SUM(views_count) OVER (PARTITION BY user_id ORDER BY creation_date) AS cumulative_count\n",
    "FROM\n",
    "  stackoverflow.posts\n",
    "ORDER BY\n",
    "  user_id,\n",
    "  creation_date;\n",
    "'''\n",
    "\n",
    "df = pd.read_sql(query, con=engine)\n",
    "\n",
    "display(df)"
   ]
  },
  {
   "cell_type": "markdown",
   "metadata": {
    "id": "gBgvmPtODWK2"
   },
   "source": [
    "Найти среднее количество постов пользователей в день за август 2008 года. Отбрать данные о пользователях, которые опубликовали больше 120 постов за август. Дни без публикаций не учитывать. \n",
    "\n",
    "Отсортировать результат по возрастанию среднего количества постов. Значения можно не округлять."
   ]
  },
  {
   "cell_type": "markdown",
   "metadata": {
    "id": "nfzR08BODWK3"
   },
   "source": [
    "| user_id | avg_daily |\n",
    "| ------- | --------- |\n",
    "| 116     | 4.777778  |\n",
    "| 234     | 5.208333  |\n",
    "| ...     | ... |"
   ]
  },
  {
   "cell_type": "code",
   "execution_count": 11,
   "metadata": {
    "id": "YFyPNz5GDWK3"
   },
   "outputs": [
    {
     "data": {
      "text/html": [
       "<div>\n",
       "<style scoped>\n",
       "    .dataframe tbody tr th:only-of-type {\n",
       "        vertical-align: middle;\n",
       "    }\n",
       "\n",
       "    .dataframe tbody tr th {\n",
       "        vertical-align: top;\n",
       "    }\n",
       "\n",
       "    .dataframe thead th {\n",
       "        text-align: right;\n",
       "    }\n",
       "</style>\n",
       "<table border=\"1\" class=\"dataframe\">\n",
       "  <thead>\n",
       "    <tr style=\"text-align: right;\">\n",
       "      <th></th>\n",
       "      <th>user_id</th>\n",
       "      <th>avg_daily</th>\n",
       "    </tr>\n",
       "  </thead>\n",
       "  <tbody>\n",
       "    <tr>\n",
       "      <th>0</th>\n",
       "      <td>116</td>\n",
       "      <td>4.777778</td>\n",
       "    </tr>\n",
       "    <tr>\n",
       "      <th>1</th>\n",
       "      <td>234</td>\n",
       "      <td>5.208333</td>\n",
       "    </tr>\n",
       "    <tr>\n",
       "      <th>2</th>\n",
       "      <td>91</td>\n",
       "      <td>5.681818</td>\n",
       "    </tr>\n",
       "    <tr>\n",
       "      <th>3</th>\n",
       "      <td>905</td>\n",
       "      <td>7.000000</td>\n",
       "    </tr>\n",
       "    <tr>\n",
       "      <th>4</th>\n",
       "      <td>383</td>\n",
       "      <td>7.277778</td>\n",
       "    </tr>\n",
       "  </tbody>\n",
       "</table>\n",
       "</div>"
      ],
      "text/plain": [
       "   user_id  avg_daily\n",
       "0      116   4.777778\n",
       "1      234   5.208333\n",
       "2       91   5.681818\n",
       "3      905   7.000000\n",
       "4      383   7.277778"
      ]
     },
     "metadata": {},
     "output_type": "display_data"
    }
   ],
   "source": [
    "# напишите запрос\n",
    "query = '''\n",
    "WITH active_users AS (\n",
    "  SELECT user_id\n",
    "  FROM stackoverflow.posts\n",
    "  WHERE EXTRACT(YEAR FROM creation_date) = 2008\n",
    "    AND EXTRACT(MONTH FROM creation_date) = 8\n",
    "  GROUP BY user_id\n",
    "  HAVING COUNT(*) > 120\n",
    "),\n",
    "\n",
    "daily_posts AS (\n",
    "  SELECT user_id, DATE(creation_date) AS post_date, COUNT(*) AS post_count\n",
    "  FROM stackoverflow.posts\n",
    "  WHERE user_id IN (SELECT user_id FROM active_users)\n",
    "    AND EXTRACT(YEAR FROM creation_date) = 2008\n",
    "    AND EXTRACT(MONTH FROM creation_date) = 8\n",
    "  GROUP BY user_id, post_date\n",
    ")\n",
    "\n",
    "SELECT user_id, AVG(post_count) AS avg_daily\n",
    "FROM daily_posts\n",
    "GROUP BY user_id\n",
    "ORDER BY avg_daily ASC;\n",
    "'''\n",
    "\n",
    "# выполните запрос\n",
    "\n",
    "df = pd.read_sql(query, con=engine)\n",
    "\n",
    "display(df)"
   ]
  },
  {
   "cell_type": "markdown",
   "metadata": {
    "id": "c7flfg_hDWK5"
   },
   "source": [
    "Сколько в среднем дней в период с 1 по 7 декабря 2008 года пользователи взаимодействовали с платформой? Для каждого пользователя отберите дни, в которые он или она опубликовали хотя бы один пост. Нужно получить одно целое число — не забудьте округлить результат. "
   ]
  },
  {
   "cell_type": "markdown",
   "metadata": {
    "id": "RC1Ibzm9DWK6"
   },
   "source": [
    "| result |\n",
    "| -----  |\n",
    "| <целое число> |"
   ]
  },
  {
   "cell_type": "code",
   "execution_count": 12,
   "metadata": {
    "id": "kZ7LXTr6DWK6"
   },
   "outputs": [
    {
     "data": {
      "text/html": [
       "<div>\n",
       "<style scoped>\n",
       "    .dataframe tbody tr th:only-of-type {\n",
       "        vertical-align: middle;\n",
       "    }\n",
       "\n",
       "    .dataframe tbody tr th {\n",
       "        vertical-align: top;\n",
       "    }\n",
       "\n",
       "    .dataframe thead th {\n",
       "        text-align: right;\n",
       "    }\n",
       "</style>\n",
       "<table border=\"1\" class=\"dataframe\">\n",
       "  <thead>\n",
       "    <tr style=\"text-align: right;\">\n",
       "      <th></th>\n",
       "      <th>result</th>\n",
       "    </tr>\n",
       "  </thead>\n",
       "  <tbody>\n",
       "    <tr>\n",
       "      <th>0</th>\n",
       "      <td>2.0</td>\n",
       "    </tr>\n",
       "  </tbody>\n",
       "</table>\n",
       "</div>"
      ],
      "text/plain": [
       "   result\n",
       "0     2.0"
      ]
     },
     "metadata": {},
     "output_type": "display_data"
    }
   ],
   "source": [
    "query = '''\n",
    "SELECT ROUND(AVG(num_active_days)) AS result\n",
    "FROM (\n",
    "  SELECT COUNT(DISTINCT DATE(posts.creation_date)) AS num_active_days\n",
    "  FROM stackoverflow.users\n",
    "  JOIN stackoverflow.posts ON posts.user_id = users.id\n",
    "  WHERE posts.creation_date BETWEEN '2008-12-01' AND '2008-12-07'\n",
    "  GROUP BY users.id\n",
    ") subquery;\n",
    "'''\n",
    "# выполните запрос\n",
    "\n",
    "df = pd.read_sql(query, con=engine)\n",
    "\n",
    "display(df)"
   ]
  },
  {
   "cell_type": "markdown",
   "metadata": {
    "id": "LfUuYz-1DWK8"
   },
   "source": [
    "`Можно сделать вывод, что за первую неделюдекабря 2008 года каждый пользователь взаимодействовал с платформой в среднем по 2 дня`"
   ]
  },
  {
   "cell_type": "markdown",
   "metadata": {
    "id": "X4ARQimADWK9"
   },
   "source": [
    "Вывести историю активности каждого пользователя в таком виде: идентификатор пользователя, дата публикации поста. Отсортировать вывод по возрастанию идентификаторов пользователей, а для каждого пользователя — по возрастанию даты публикации.\n",
    "\n",
    "Добавить в таблицу новое поле: для каждого поста в нём будет указано название месяца предпоследней публикации пользователя относительно текущей. Если такой публикации нет, укажите `NULL`.  Python автоматически поменяет `NULL` на `None`, но дополнительно преобразовывать значения `None` вам не нужно.\n",
    "\n",
    "Посмотреть внимательно на образец таблицы: для первых двух постов предпоследней публикации нет, но, начиная с третьего поста, в новое поле входит нужный месяц. Для следующего пользователя в первые две записи поля `second_last_month` тоже войдёт `NULL`."
   ]
  },
  {
   "cell_type": "markdown",
   "metadata": {
    "id": "IGPjRP01DWK9"
   },
   "source": [
    "| user_id | creation_date | second_last_month |\n",
    "| ------- | ------------- | ----------------- |\n",
    "| 1       | 2008-07-31 23:41:00 | None |\n",
    "| 1       | 2008-07-31 23:55:38 | None |\n",
    "| 1       | 2008-07-31 23:56:41 | July |\n",
    "| 1       | 2008-08-04 02:45:08 | July |\n",
    "| 1       | 2008-08-04 04:31:03 | July |\n",
    "| 1       | 2008-08-04 08:04:42 | August |\n",
    "| ... | ... | ... |"
   ]
  },
  {
   "cell_type": "code",
   "execution_count": 13,
   "metadata": {
    "id": "HzI1vhaMDWK-"
   },
   "outputs": [
    {
     "data": {
      "text/html": [
       "<div>\n",
       "<style scoped>\n",
       "    .dataframe tbody tr th:only-of-type {\n",
       "        vertical-align: middle;\n",
       "    }\n",
       "\n",
       "    .dataframe tbody tr th {\n",
       "        vertical-align: top;\n",
       "    }\n",
       "\n",
       "    .dataframe thead th {\n",
       "        text-align: right;\n",
       "    }\n",
       "</style>\n",
       "<table border=\"1\" class=\"dataframe\">\n",
       "  <thead>\n",
       "    <tr style=\"text-align: right;\">\n",
       "      <th></th>\n",
       "      <th>user_id</th>\n",
       "      <th>creation_date</th>\n",
       "      <th>second_last_month</th>\n",
       "    </tr>\n",
       "  </thead>\n",
       "  <tbody>\n",
       "    <tr>\n",
       "      <th>0</th>\n",
       "      <td>1</td>\n",
       "      <td>2008-07-31 23:41:00</td>\n",
       "      <td>None</td>\n",
       "    </tr>\n",
       "    <tr>\n",
       "      <th>1</th>\n",
       "      <td>1</td>\n",
       "      <td>2008-07-31 23:55:38</td>\n",
       "      <td>None</td>\n",
       "    </tr>\n",
       "    <tr>\n",
       "      <th>2</th>\n",
       "      <td>1</td>\n",
       "      <td>2008-07-31 23:56:41</td>\n",
       "      <td>July</td>\n",
       "    </tr>\n",
       "    <tr>\n",
       "      <th>3</th>\n",
       "      <td>1</td>\n",
       "      <td>2008-08-04 02:45:08</td>\n",
       "      <td>July</td>\n",
       "    </tr>\n",
       "    <tr>\n",
       "      <th>4</th>\n",
       "      <td>1</td>\n",
       "      <td>2008-08-04 04:31:03</td>\n",
       "      <td>July</td>\n",
       "    </tr>\n",
       "    <tr>\n",
       "      <th>...</th>\n",
       "      <td>...</td>\n",
       "      <td>...</td>\n",
       "      <td>...</td>\n",
       "    </tr>\n",
       "    <tr>\n",
       "      <th>243791</th>\n",
       "      <td>5696608</td>\n",
       "      <td>2008-12-23 16:00:37</td>\n",
       "      <td>December</td>\n",
       "    </tr>\n",
       "    <tr>\n",
       "      <th>243792</th>\n",
       "      <td>5696608</td>\n",
       "      <td>2008-12-23 17:35:09</td>\n",
       "      <td>December</td>\n",
       "    </tr>\n",
       "    <tr>\n",
       "      <th>243793</th>\n",
       "      <td>5696608</td>\n",
       "      <td>2008-12-24 01:02:48</td>\n",
       "      <td>December</td>\n",
       "    </tr>\n",
       "    <tr>\n",
       "      <th>243794</th>\n",
       "      <td>5696608</td>\n",
       "      <td>2008-12-30 14:34:45</td>\n",
       "      <td>December</td>\n",
       "    </tr>\n",
       "    <tr>\n",
       "      <th>243795</th>\n",
       "      <td>5696608</td>\n",
       "      <td>2008-12-30 16:32:12</td>\n",
       "      <td>December</td>\n",
       "    </tr>\n",
       "  </tbody>\n",
       "</table>\n",
       "<p>243796 rows × 3 columns</p>\n",
       "</div>"
      ],
      "text/plain": [
       "        user_id       creation_date second_last_month\n",
       "0             1 2008-07-31 23:41:00              None\n",
       "1             1 2008-07-31 23:55:38              None\n",
       "2             1 2008-07-31 23:56:41         July     \n",
       "3             1 2008-08-04 02:45:08         July     \n",
       "4             1 2008-08-04 04:31:03         July     \n",
       "...         ...                 ...               ...\n",
       "243791  5696608 2008-12-23 16:00:37         December \n",
       "243792  5696608 2008-12-23 17:35:09         December \n",
       "243793  5696608 2008-12-24 01:02:48         December \n",
       "243794  5696608 2008-12-30 14:34:45         December \n",
       "243795  5696608 2008-12-30 16:32:12         December \n",
       "\n",
       "[243796 rows x 3 columns]"
      ]
     },
     "metadata": {},
     "output_type": "display_data"
    }
   ],
   "source": [
    "# напишите запрос\n",
    "query = '''\n",
    "SELECT \n",
    "  user_id,\n",
    "  creation_date,\n",
    "  CASE\n",
    "    WHEN LAG(date_trunc('month', creation_date), 2) OVER (PARTITION BY user_id ORDER BY creation_date) IS NOT NULL THEN to_char(LAG(date_trunc('month', creation_date), 2) OVER (PARTITION BY user_id ORDER BY creation_date), 'Month')\n",
    "    ELSE NULL\n",
    "  END AS second_last_month\n",
    "FROM stackoverflow.posts\n",
    "ORDER BY user_id, creation_date;\n",
    "'''\n",
    "\n",
    "# выполните запрос\n",
    "\n",
    "df = pd.read_sql(query, con=engine)\n",
    "\n",
    "display(df)"
   ]
  },
  {
   "cell_type": "markdown",
   "metadata": {
    "id": "gfwLVXBYDWLA"
   },
   "source": [
    "Рассчитать аналог Retention Rate по месяцам для пользователей StackOverflow. Объединить пользователей в когорты по месяцу их первого поста. Возвращение определить по наличию поста в текущем месяце. "
   ]
  },
  {
   "cell_type": "markdown",
   "metadata": {
    "id": "kN2ic39WlKpl"
   },
   "source": [
    "| cohort_dt | session_date | users_cnt | cohort_users_cnt | retention_rate |\n",
    "| --- | --- | --- | --- | --- |\n",
    "| 2008-07-01 00:00:00 | 2008-07-01 00:00:00 | 3 | 3 | 100 |\n",
    "| 2008-07-01 00:00:00 | 2008-08-01 00:00:00 | 2 | 3 | 66,67 |\n",
    "| 2008-07-01 00:00:00 | 2008-09-01 00:00:00 | 1 | 3 | 33,33 |\n",
    "| 2008-07-01 00:00:00 | 2008-10-01 00:00:00 | 2 | 3 | 66,67 |\n",
    "| 2008-07-01 00:00:00 | 2008-11-01 00:00:00 | 1 | 3 | 33,33 |\n",
    "| 2008-07-01 00:00:00 | 2008-12-01 00:00:00 | 2 | 3 | 66,67 |\n",
    "| 2008-08-01 00:00:00 | 2008-08-01 00:00:00 | 2151 | 2151 | 100 |\n",
    "| ... | ... | ... | ... | ... |"
   ]
  },
  {
   "cell_type": "code",
   "execution_count": 14,
   "metadata": {
    "id": "LUgFmwmTDWLB"
   },
   "outputs": [
    {
     "data": {
      "text/html": [
       "<div>\n",
       "<style scoped>\n",
       "    .dataframe tbody tr th:only-of-type {\n",
       "        vertical-align: middle;\n",
       "    }\n",
       "\n",
       "    .dataframe tbody tr th {\n",
       "        vertical-align: top;\n",
       "    }\n",
       "\n",
       "    .dataframe thead th {\n",
       "        text-align: right;\n",
       "    }\n",
       "</style>\n",
       "<table border=\"1\" class=\"dataframe\">\n",
       "  <thead>\n",
       "    <tr style=\"text-align: right;\">\n",
       "      <th></th>\n",
       "      <th>cohort_dt</th>\n",
       "      <th>session_date</th>\n",
       "      <th>users_cnt</th>\n",
       "      <th>cohort_users_cnt</th>\n",
       "      <th>retention_rate</th>\n",
       "    </tr>\n",
       "  </thead>\n",
       "  <tbody>\n",
       "    <tr>\n",
       "      <th>0</th>\n",
       "      <td>2008-07-01</td>\n",
       "      <td>2008-07-01</td>\n",
       "      <td>3</td>\n",
       "      <td>3</td>\n",
       "      <td>100.00</td>\n",
       "    </tr>\n",
       "    <tr>\n",
       "      <th>1</th>\n",
       "      <td>2008-07-01</td>\n",
       "      <td>2008-08-01</td>\n",
       "      <td>2</td>\n",
       "      <td>3</td>\n",
       "      <td>66.67</td>\n",
       "    </tr>\n",
       "    <tr>\n",
       "      <th>2</th>\n",
       "      <td>2008-07-01</td>\n",
       "      <td>2008-09-01</td>\n",
       "      <td>1</td>\n",
       "      <td>3</td>\n",
       "      <td>33.33</td>\n",
       "    </tr>\n",
       "    <tr>\n",
       "      <th>3</th>\n",
       "      <td>2008-07-01</td>\n",
       "      <td>2008-10-01</td>\n",
       "      <td>2</td>\n",
       "      <td>3</td>\n",
       "      <td>66.67</td>\n",
       "    </tr>\n",
       "    <tr>\n",
       "      <th>4</th>\n",
       "      <td>2008-07-01</td>\n",
       "      <td>2008-11-01</td>\n",
       "      <td>1</td>\n",
       "      <td>3</td>\n",
       "      <td>33.33</td>\n",
       "    </tr>\n",
       "    <tr>\n",
       "      <th>5</th>\n",
       "      <td>2008-07-01</td>\n",
       "      <td>2008-12-01</td>\n",
       "      <td>2</td>\n",
       "      <td>3</td>\n",
       "      <td>66.67</td>\n",
       "    </tr>\n",
       "    <tr>\n",
       "      <th>6</th>\n",
       "      <td>2008-08-01</td>\n",
       "      <td>2008-08-01</td>\n",
       "      <td>2151</td>\n",
       "      <td>2151</td>\n",
       "      <td>100.00</td>\n",
       "    </tr>\n",
       "    <tr>\n",
       "      <th>7</th>\n",
       "      <td>2008-08-01</td>\n",
       "      <td>2008-09-01</td>\n",
       "      <td>1571</td>\n",
       "      <td>2151</td>\n",
       "      <td>73.04</td>\n",
       "    </tr>\n",
       "    <tr>\n",
       "      <th>8</th>\n",
       "      <td>2008-08-01</td>\n",
       "      <td>2008-10-01</td>\n",
       "      <td>1275</td>\n",
       "      <td>2151</td>\n",
       "      <td>59.27</td>\n",
       "    </tr>\n",
       "    <tr>\n",
       "      <th>9</th>\n",
       "      <td>2008-08-01</td>\n",
       "      <td>2008-11-01</td>\n",
       "      <td>1050</td>\n",
       "      <td>2151</td>\n",
       "      <td>48.81</td>\n",
       "    </tr>\n",
       "    <tr>\n",
       "      <th>10</th>\n",
       "      <td>2008-08-01</td>\n",
       "      <td>2008-12-01</td>\n",
       "      <td>894</td>\n",
       "      <td>2151</td>\n",
       "      <td>41.56</td>\n",
       "    </tr>\n",
       "    <tr>\n",
       "      <th>11</th>\n",
       "      <td>2008-09-01</td>\n",
       "      <td>2008-09-01</td>\n",
       "      <td>7678</td>\n",
       "      <td>7678</td>\n",
       "      <td>100.00</td>\n",
       "    </tr>\n",
       "    <tr>\n",
       "      <th>12</th>\n",
       "      <td>2008-09-01</td>\n",
       "      <td>2008-10-01</td>\n",
       "      <td>4132</td>\n",
       "      <td>7678</td>\n",
       "      <td>53.82</td>\n",
       "    </tr>\n",
       "    <tr>\n",
       "      <th>13</th>\n",
       "      <td>2008-09-01</td>\n",
       "      <td>2008-11-01</td>\n",
       "      <td>2966</td>\n",
       "      <td>7678</td>\n",
       "      <td>38.63</td>\n",
       "    </tr>\n",
       "    <tr>\n",
       "      <th>14</th>\n",
       "      <td>2008-09-01</td>\n",
       "      <td>2008-12-01</td>\n",
       "      <td>2500</td>\n",
       "      <td>7678</td>\n",
       "      <td>32.56</td>\n",
       "    </tr>\n",
       "    <tr>\n",
       "      <th>15</th>\n",
       "      <td>2008-10-01</td>\n",
       "      <td>2008-10-01</td>\n",
       "      <td>3629</td>\n",
       "      <td>3629</td>\n",
       "      <td>100.00</td>\n",
       "    </tr>\n",
       "    <tr>\n",
       "      <th>16</th>\n",
       "      <td>2008-10-01</td>\n",
       "      <td>2008-11-01</td>\n",
       "      <td>1640</td>\n",
       "      <td>3629</td>\n",
       "      <td>45.19</td>\n",
       "    </tr>\n",
       "    <tr>\n",
       "      <th>17</th>\n",
       "      <td>2008-10-01</td>\n",
       "      <td>2008-12-01</td>\n",
       "      <td>1221</td>\n",
       "      <td>3629</td>\n",
       "      <td>33.65</td>\n",
       "    </tr>\n",
       "    <tr>\n",
       "      <th>18</th>\n",
       "      <td>2008-11-01</td>\n",
       "      <td>2008-11-01</td>\n",
       "      <td>2852</td>\n",
       "      <td>2852</td>\n",
       "      <td>100.00</td>\n",
       "    </tr>\n",
       "    <tr>\n",
       "      <th>19</th>\n",
       "      <td>2008-11-01</td>\n",
       "      <td>2008-12-01</td>\n",
       "      <td>1151</td>\n",
       "      <td>2852</td>\n",
       "      <td>40.36</td>\n",
       "    </tr>\n",
       "    <tr>\n",
       "      <th>20</th>\n",
       "      <td>2008-12-01</td>\n",
       "      <td>2008-12-01</td>\n",
       "      <td>2536</td>\n",
       "      <td>2536</td>\n",
       "      <td>100.00</td>\n",
       "    </tr>\n",
       "  </tbody>\n",
       "</table>\n",
       "</div>"
      ],
      "text/plain": [
       "    cohort_dt session_date  users_cnt  cohort_users_cnt  retention_rate\n",
       "0  2008-07-01   2008-07-01          3                 3          100.00\n",
       "1  2008-07-01   2008-08-01          2                 3           66.67\n",
       "2  2008-07-01   2008-09-01          1                 3           33.33\n",
       "3  2008-07-01   2008-10-01          2                 3           66.67\n",
       "4  2008-07-01   2008-11-01          1                 3           33.33\n",
       "5  2008-07-01   2008-12-01          2                 3           66.67\n",
       "6  2008-08-01   2008-08-01       2151              2151          100.00\n",
       "7  2008-08-01   2008-09-01       1571              2151           73.04\n",
       "8  2008-08-01   2008-10-01       1275              2151           59.27\n",
       "9  2008-08-01   2008-11-01       1050              2151           48.81\n",
       "10 2008-08-01   2008-12-01        894              2151           41.56\n",
       "11 2008-09-01   2008-09-01       7678              7678          100.00\n",
       "12 2008-09-01   2008-10-01       4132              7678           53.82\n",
       "13 2008-09-01   2008-11-01       2966              7678           38.63\n",
       "14 2008-09-01   2008-12-01       2500              7678           32.56\n",
       "15 2008-10-01   2008-10-01       3629              3629          100.00\n",
       "16 2008-10-01   2008-11-01       1640              3629           45.19\n",
       "17 2008-10-01   2008-12-01       1221              3629           33.65\n",
       "18 2008-11-01   2008-11-01       2852              2852          100.00\n",
       "19 2008-11-01   2008-12-01       1151              2852           40.36\n",
       "20 2008-12-01   2008-12-01       2536              2536          100.00"
      ]
     },
     "metadata": {},
     "output_type": "display_data"
    }
   ],
   "source": [
    "# Напишите запрос для извлечения retention rate\n",
    "query = '''\n",
    "WITH profile AS (\n",
    "  SELECT \n",
    "    user_id,\n",
    "    DATE_TRUNC('month', MIN(creation_date)) AS cohort_month,\n",
    "    COUNT(*) OVER (PARTITION BY DATE_TRUNC('month', MIN(creation_date))) AS cohort_users_cnt\n",
    "  FROM stackoverflow.posts\n",
    "  GROUP BY user_id\n",
    "), \n",
    "sessions AS (\n",
    "  SELECT DISTINCT \n",
    "    user_id,\n",
    "    DATE_TRUNC('month', creation_date) AS session_month\n",
    "  FROM stackoverflow.posts\n",
    ")\n",
    "SELECT \n",
    "  p.cohort_month AS cohort_dt,\n",
    "  s.session_month AS session_date,\n",
    "  COUNT(DISTINCT s.user_id) AS users_cnt,\n",
    "  p.cohort_users_cnt,\n",
    "  ROUND(COUNT(DISTINCT s.user_id) * 100.0 / p.cohort_users_cnt, 2) AS retention_rate\n",
    "FROM profile AS p\n",
    "JOIN sessions AS s ON p.user_id = s.user_id AND s.session_month >= p.cohort_month\n",
    "GROUP BY 1, 2, 4\n",
    "ORDER BY 1, 2;\n",
    "'''\n",
    "\n",
    "# Выполните запрос\n",
    "df = pd.read_sql(query, con=engine)\n",
    "\n",
    "display(df)"
   ]
  },
  {
   "cell_type": "markdown",
   "metadata": {
    "id": "_msBtnb2DWLC"
   },
   "source": [
    "Построить тепловую карту Retention Rate. Какие аномалии или другие необычные явления удалось выявить? Сформулировать гипотезы о возможных причинах."
   ]
  },
  {
   "cell_type": "code",
   "execution_count": 15,
   "metadata": {
    "id": "qAEJc8H1DWLC"
   },
   "outputs": [
    {
     "data": {
      "image/png": "[encoded data removed]",
      "text/plain": [
       "<Figure size 720x432 with 2 Axes>"
      ]
     },
     "metadata": {
      "needs_background": "light"
     },
     "output_type": "display_data"
    }
   ],
   "source": [
    "pivot_table = df.pivot(\"cohort_dt\", \"session_date\", \"retention_rate\")\n",
    "\n",
    "fig, ax = plt.subplots(figsize=(10,6))\n",
    "ax.set_title('Retention Rate\\nCohort: cohort_dt\\nSession Date: session_date\\nRetention Rate: retention_rate')\n",
    "im = ax.imshow(pivot_table, cmap='Pastel1')\n",
    "\n",
    "ax.set_xticks(np.arange(len(pivot_table.columns)))\n",
    "ax.set_yticks(np.arange(len(pivot_table)))\n",
    "\n",
    "y_labels = [f\"Cohort: {dt.date()}\" for dt in pivot_table.index]\n",
    "ax.set_yticklabels(y_labels)\n",
    "\n",
    "ax.set_xticklabels(pivot_table.columns)\n",
    "ax.tick_params(axis=\"x\", labelrotation=90)\n",
    "ax.set_xticklabels(pivot_table.columns, ha=\"center\", va=\"top\")\n",
    "ax.set_xticks(np.arange(-0.5, len(pivot_table.columns)), minor=True)\n",
    "\n",
    "for i in range(len(pivot_table)):\n",
    "    for j in range(len(pivot_table.columns)):\n",
    "        text = ax.text(j, i, format(pivot_table.iloc[i, j], \".1f\"),\n",
    "                       ha=\"center\", va=\"center\",\n",
    "                       color=\"black\")\n",
    "\n",
    "cbar = ax.figure.colorbar(im, ax=ax)\n",
    "cbar.ax.set_ylabel(\"Retention Rate\", rotation=-90, va=\"bottom\")\n",
    "\n",
    "plt.show()"
   ]
  },
  {
   "cell_type": "markdown",
   "metadata": {
    "id": "EgOfIsI4DWLC"
   },
   "source": [
    "**Задача была: Рассчитайте Retention Rate по месяцам для пользователей StackOverflow. Объедините пользователей в когорты по месяцу их первого поста. Возвращение определяйте по наличию поста в текущем месяце.**\n",
    "\n",
    "Для начала уточним значение Retention Rate (коэффициент удержания) - это метрика, которая измеряет процент пользователей или клиентов, которые остаются верными изучаемому продукту или услуге в течение определенного периода времени  \n",
    "\n",
    "Retention Rate позволяет определить степень удержания клиентов и построить стратегии для увеличения этого показателя  \n",
    "Чем выше Retention Rate, тем больше пользователей или клиентов сохраняют свою лояльность к продукту или услуге  \n",
    "\n",
    "Это также означает, что можно сократить затраты на привлечение новых пользователей или клиентов, поскольку сохранение существующих клиентов обходится дешевле  \n",
    "\n",
    "**Исходя из графика Retention Rate по месяцам для пользователей StackOverflow, можно сделать следующие выводы и гипотезы:**\n",
    "\n",
    "* В целом, уровень возврата пользователей довольно низкий на протяжении всего периода исследования. Это может быть связано с тем, что StackOverflow является ресурсом для решения конкретных задач, а не для общения или развлечения, поэтому пользователи не стараются возвращаться на сайт после того, как решили свою проблему  \n",
    "\n",
    "* `Пользователи, зарегистрировавшиеся в июле, имеют самый высокий и стабильный показатель в использовании StackOverflow `. Это может быть связано с тем, что эта когорта была одной из первых на сайте, и поэтому ее участники имеют более высокую лояльность к платформе \n",
    "\n",
    "* Уровень возврата в последующие месяцы оставался довольно низким, что может указывать на то, что пользователи не видят достаточно новых и интересных материалов на сайте, или уходят на другие ресурсы, которые могут быть более актуальными для их нужд\n",
    "\n",
    "**На основании этих выводов можно сделать гипотезу о том, что для увеличения уровня возврата пользователей на сайт необходимо постоянно обновлять контент и добавлять новые функции, которые будут привлекать и удерживать пользователей на платформе. Также возможно стоит рассмотреть способы повышения лояльности пользователей к StackOverflow, например, через программы лояльности или персонализированный контент**"
   ]
  },
  {
   "cell_type": "markdown",
   "metadata": {
    "id": "ALsYVSyRDWLM"
   },
   "source": [
    "На сколько процентов менялось количество постов ежемесячно с 1 сентября по 31 декабря 2008 года? Отобразите таблицу со следующими полями:\n",
    "\n",
    "- номер месяца;\n",
    "- количество постов за месяц;\n",
    "- процент, который показывает, насколько изменилось количество постов в текущем месяце по сравнению с предыдущим.\n",
    "\n",
    "Если постов стало меньше, значение процента должно быть отрицательным, если больше — положительным. Округлите значение процента до двух знаков после запятой.\n",
    "\n",
    "Напомним, что при делении одного целого числа на другое в PostgreSQL в результате получится целое число, округлённое до ближайшего целого вниз. Чтобы этого избежать, переведите делимое в тип `numeric`."
   ]
  },
  {
   "cell_type": "markdown",
   "metadata": {
    "id": "u4E2zF8DDWLM"
   },
   "source": [
    "| creation_month | posts_count | percentage |\n",
    "| -------------- | ----------- | ---------- |\n",
    "| 9 | 70731 | Nan |\n",
    "| 10 | 63102 | -10.33 |\n",
    "| ... | ... | ... |"
   ]
  },
  {
   "cell_type": "code",
   "execution_count": 16,
   "metadata": {
    "id": "Mb5pShStDWLN"
   },
   "outputs": [
    {
     "data": {
      "text/html": [
       "<div>\n",
       "<style scoped>\n",
       "    .dataframe tbody tr th:only-of-type {\n",
       "        vertical-align: middle;\n",
       "    }\n",
       "\n",
       "    .dataframe tbody tr th {\n",
       "        vertical-align: top;\n",
       "    }\n",
       "\n",
       "    .dataframe thead th {\n",
       "        text-align: right;\n",
       "    }\n",
       "</style>\n",
       "<table border=\"1\" class=\"dataframe\">\n",
       "  <thead>\n",
       "    <tr style=\"text-align: right;\">\n",
       "      <th></th>\n",
       "      <th>creation_month</th>\n",
       "      <th>posts_count</th>\n",
       "      <th>percentage</th>\n",
       "    </tr>\n",
       "  </thead>\n",
       "  <tbody>\n",
       "    <tr>\n",
       "      <th>0</th>\n",
       "      <td>9.0</td>\n",
       "      <td>70371</td>\n",
       "      <td>NaN</td>\n",
       "    </tr>\n",
       "    <tr>\n",
       "      <th>1</th>\n",
       "      <td>10.0</td>\n",
       "      <td>63102</td>\n",
       "      <td>-10.33</td>\n",
       "    </tr>\n",
       "    <tr>\n",
       "      <th>2</th>\n",
       "      <td>11.0</td>\n",
       "      <td>46975</td>\n",
       "      <td>-25.56</td>\n",
       "    </tr>\n",
       "    <tr>\n",
       "      <th>3</th>\n",
       "      <td>12.0</td>\n",
       "      <td>44592</td>\n",
       "      <td>-5.07</td>\n",
       "    </tr>\n",
       "  </tbody>\n",
       "</table>\n",
       "</div>"
      ],
      "text/plain": [
       "   creation_month  posts_count  percentage\n",
       "0             9.0        70371         NaN\n",
       "1            10.0        63102      -10.33\n",
       "2            11.0        46975      -25.56\n",
       "3            12.0        44592       -5.07"
      ]
     },
     "metadata": {},
     "output_type": "display_data"
    }
   ],
   "source": [
    "# напишите запрос\n",
    "query = '''\n",
    "SELECT \n",
    "  EXTRACT(MONTH FROM creation_date) AS creation_month,\n",
    "  COUNT(*) AS posts_count,\n",
    "  ROUND(((COUNT(*)::NUMERIC / LAG(COUNT(*)) OVER (ORDER BY EXTRACT(MONTH FROM creation_date))) - 1) * 100, 2) AS percentage\n",
    "FROM stackoverflow.posts\n",
    "WHERE \n",
    "  EXTRACT(YEAR FROM creation_date) = 2008 AND \n",
    "  EXTRACT(MONTH FROM creation_date) BETWEEN 9 AND 12\n",
    "GROUP BY EXTRACT(MONTH FROM creation_date)\n",
    "ORDER BY EXTRACT(MONTH FROM creation_date);\n",
    "'''\n",
    "\n",
    "# выполните запрос\n",
    "\n",
    "df = pd.read_sql(query, con=engine)\n",
    "\n",
    "display(df)"
   ]
  },
  {
   "cell_type": "markdown",
   "metadata": {
    "id": "9NQE2y_MDWLP"
   },
   "source": [
    "Построить круговую диаграмму с количеством постов по месяцам."
   ]
  },
  {
   "cell_type": "code",
   "execution_count": 17,
   "metadata": {
    "id": "377ABjiVDWLP"
   },
   "outputs": [
    {
     "data": {
      "image/png": "[encoded data removed]",
      "text/plain": [
       "<Figure size 576x576 with 1 Axes>"
      ]
     },
     "metadata": {},
     "output_type": "display_data"
    }
   ],
   "source": [
    "# постройте круговую диаграмму с количеством постов по месяцам\n",
    "\n",
    "\n",
    "colors = ['#EEB2EB', '#C9C9C9', '#F5A9A9', '#E0EEEE']\n",
    "\n",
    "\n",
    "posts_count = df[\"posts_count\"].tolist()\n",
    "\n",
    "\n",
    "months = df[\"creation_month\"].apply(lambda x: calendar.month_abbr[int(x)]).tolist()\n",
    "\n",
    "plt.figure(figsize=(8, 8))\n",
    "plt.pie(posts_count, labels=months, colors=colors, autopct=\"%1.1f%%\")\n",
    "plt.title(\"Количество постов по месяцам\")\n",
    "plt.show()"
   ]
  },
  {
   "cell_type": "markdown",
   "metadata": {
    "id": "oRBpWKx3DWLQ"
   },
   "source": [
    "Выгрузить данные активности пользователя, который опубликовал больше всего постов за всё время. Вывести данные за октябрь 2008 года в таком виде:\n",
    "\n",
    "- номер недели;\n",
    "- дата и время последнего поста, опубликованного на этой неделе."
   ]
  },
  {
   "cell_type": "markdown",
   "metadata": {
    "id": "XjAWSn_3DWLQ"
   },
   "source": [
    "| week_creation | creation_date |\n",
    "| ------------- | ------------- |\n",
    "| 40 | 2008-10-05 09:00:58 |\n",
    "| 41 | 2008-10-12 21:22:23 |\n",
    "| ... | ... |"
   ]
  },
  {
   "cell_type": "code",
   "execution_count": 18,
   "metadata": {
    "id": "r5F5fSkwDWLQ"
   },
   "outputs": [
    {
     "data": {
      "text/html": [
       "<div>\n",
       "<style scoped>\n",
       "    .dataframe tbody tr th:only-of-type {\n",
       "        vertical-align: middle;\n",
       "    }\n",
       "\n",
       "    .dataframe tbody tr th {\n",
       "        vertical-align: top;\n",
       "    }\n",
       "\n",
       "    .dataframe thead th {\n",
       "        text-align: right;\n",
       "    }\n",
       "</style>\n",
       "<table border=\"1\" class=\"dataframe\">\n",
       "  <thead>\n",
       "    <tr style=\"text-align: right;\">\n",
       "      <th></th>\n",
       "      <th>id</th>\n",
       "      <th>display_name</th>\n",
       "      <th>last_post_date</th>\n",
       "    </tr>\n",
       "  </thead>\n",
       "  <tbody>\n",
       "    <tr>\n",
       "      <th>0</th>\n",
       "      <td>22656</td>\n",
       "      <td>Jon Skeet</td>\n",
       "      <td>2008-10-31 22:16:01</td>\n",
       "    </tr>\n",
       "  </tbody>\n",
       "</table>\n",
       "</div>"
      ],
      "text/plain": [
       "      id display_name      last_post_date\n",
       "0  22656    Jon Skeet 2008-10-31 22:16:01"
      ]
     },
     "metadata": {},
     "output_type": "display_data"
    }
   ],
   "source": [
    "# напишите запрос\n",
    "query = '''\n",
    "SELECT users.id, users.display_name, MAX(posts.creation_date) AS last_post_date\n",
    "FROM stackoverflow.posts\n",
    "JOIN stackoverflow.users ON posts.user_id = users.id\n",
    "WHERE EXTRACT(MONTH FROM posts.creation_date) = 10 \n",
    "  AND EXTRACT(YEAR FROM posts.creation_date) = 2008 \n",
    "GROUP BY users.id, users.display_name\n",
    "ORDER BY COUNT(*) DESC\n",
    "LIMIT 1;\n",
    "\n",
    "'''\n",
    "\n",
    "# выполните запрос\n",
    "\n",
    "df = pd.read_sql(query, con=engine)\n",
    "\n",
    "display(df)"
   ]
  },
  {
   "cell_type": "code",
   "execution_count": 19,
   "metadata": {},
   "outputs": [
    {
     "data": {
      "text/html": [
       "<div>\n",
       "<style scoped>\n",
       "    .dataframe tbody tr th:only-of-type {\n",
       "        vertical-align: middle;\n",
       "    }\n",
       "\n",
       "    .dataframe tbody tr th {\n",
       "        vertical-align: top;\n",
       "    }\n",
       "\n",
       "    .dataframe thead th {\n",
       "        text-align: right;\n",
       "    }\n",
       "</style>\n",
       "<table border=\"1\" class=\"dataframe\">\n",
       "  <thead>\n",
       "    <tr style=\"text-align: right;\">\n",
       "      <th></th>\n",
       "      <th>week_number</th>\n",
       "      <th>last_post_date</th>\n",
       "    </tr>\n",
       "  </thead>\n",
       "  <tbody>\n",
       "    <tr>\n",
       "      <th>0</th>\n",
       "      <td>40</td>\n",
       "      <td>2008-10-05 09:00:58</td>\n",
       "    </tr>\n",
       "    <tr>\n",
       "      <th>1</th>\n",
       "      <td>41</td>\n",
       "      <td>2008-10-12 21:22:23</td>\n",
       "    </tr>\n",
       "    <tr>\n",
       "      <th>2</th>\n",
       "      <td>42</td>\n",
       "      <td>2008-10-19 06:49:30</td>\n",
       "    </tr>\n",
       "    <tr>\n",
       "      <th>3</th>\n",
       "      <td>43</td>\n",
       "      <td>2008-10-26 21:44:36</td>\n",
       "    </tr>\n",
       "    <tr>\n",
       "      <th>4</th>\n",
       "      <td>44</td>\n",
       "      <td>2008-10-31 22:16:01</td>\n",
       "    </tr>\n",
       "  </tbody>\n",
       "</table>\n",
       "</div>"
      ],
      "text/plain": [
       "  week_number       last_post_date\n",
       "0          40  2008-10-05 09:00:58\n",
       "1          41  2008-10-12 21:22:23\n",
       "2          42  2008-10-19 06:49:30\n",
       "3          43  2008-10-26 21:44:36\n",
       "4          44  2008-10-31 22:16:01"
      ]
     },
     "metadata": {},
     "output_type": "display_data"
    }
   ],
   "source": [
    "query = '''\n",
    "SELECT \n",
    "  TO_CHAR(creation_date, 'IW') AS week_number,\n",
    "  MAX(TO_CHAR(creation_date, 'YYYY-MM-DD HH24:MI:SS')) AS last_post_date\n",
    "FROM stackoverflow.posts\n",
    "WHERE \n",
    "  user_id = (\n",
    "    SELECT user_id\n",
    "    FROM (\n",
    "      SELECT user_id, COUNT(*) as num_posts\n",
    "      FROM stackoverflow.posts\n",
    "      WHERE EXTRACT(MONTH FROM creation_date) = 10 AND EXTRACT(YEAR FROM creation_date) = 2008\n",
    "      GROUP BY user_id\n",
    "      ORDER BY num_posts DESC\n",
    "      LIMIT 1\n",
    "    ) subquery\n",
    "  ) AND\n",
    "  EXTRACT(MONTH FROM creation_date) = 10 AND EXTRACT(YEAR FROM creation_date) = 2008 AND\n",
    "  TO_CHAR(creation_date, 'IW') BETWEEN '40' AND '44'\n",
    "GROUP BY TO_CHAR(creation_date, 'IW')\n",
    "ORDER BY TO_CHAR(creation_date, 'IW');\n",
    "'''\n",
    "\n",
    "# выполните запрос\n",
    "df = pd.read_sql(query, con=engine)\n",
    "\n",
    "display(df)"
   ]
  }
 ],
 "metadata": {
  "ExecuteTimeLog": [
   {
    "duration": 1186,
    "start_time": "2023-06-08T10:24:19.466Z"
   },
   {
    "duration": 4,
    "start_time": "2023-06-08T10:24:20.654Z"
   },
   {
    "duration": 24349,
    "start_time": "2023-06-08T10:24:20.660Z"
   },
   {
    "duration": 302,
    "start_time": "2023-06-08T10:24:45.011Z"
   },
   {
    "duration": 13,
    "start_time": "2023-06-08T10:24:45.315Z"
   },
   {
    "duration": 28,
    "start_time": "2023-06-08T10:24:45.330Z"
   },
   {
    "duration": 47,
    "start_time": "2023-06-08T10:24:45.360Z"
   },
   {
    "duration": 59,
    "start_time": "2023-06-08T10:24:45.408Z"
   },
   {
    "duration": 81,
    "start_time": "2023-06-08T10:24:45.469Z"
   },
   {
    "duration": 79,
    "start_time": "2023-06-08T10:24:45.552Z"
   },
   {
    "duration": 37,
    "start_time": "2023-06-08T10:24:45.633Z"
   },
   {
    "duration": 39,
    "start_time": "2023-06-08T10:24:45.671Z"
   },
   {
    "duration": 26,
    "start_time": "2023-06-08T10:24:45.711Z"
   },
   {
    "duration": 23,
    "start_time": "2023-06-08T10:24:45.739Z"
   },
   {
    "duration": 14,
    "start_time": "2023-06-08T10:24:45.764Z"
   },
   {
    "duration": 27,
    "start_time": "2023-06-08T10:24:45.779Z"
   },
   {
    "duration": 26,
    "start_time": "2023-06-08T10:24:45.807Z"
   },
   {
    "duration": 19,
    "start_time": "2023-06-08T10:24:45.834Z"
   },
   {
    "duration": 18,
    "start_time": "2023-06-08T10:24:45.854Z"
   },
   {
    "duration": 12,
    "start_time": "2023-06-08T10:24:45.873Z"
   },
   {
    "duration": 19,
    "start_time": "2023-06-08T10:24:45.899Z"
   },
   {
    "duration": 46,
    "start_time": "2023-06-08T10:24:45.919Z"
   },
   {
    "duration": 547,
    "start_time": "2023-06-08T10:46:27.353Z"
   },
   {
    "duration": 3,
    "start_time": "2023-06-08T10:49:58.270Z"
   },
   {
    "duration": 3,
    "start_time": "2023-06-08T10:49:59.815Z"
   },
   {
    "duration": 256,
    "start_time": "2023-06-08T10:50:04.414Z"
   },
   {
    "duration": 11,
    "start_time": "2023-06-08T10:50:05.612Z"
   },
   {
    "duration": 250,
    "start_time": "2023-06-08T10:50:40.248Z"
   },
   {
    "duration": 1093,
    "start_time": "2023-06-08T10:51:08.217Z"
   },
   {
    "duration": 470,
    "start_time": "2023-06-08T10:53:27.375Z"
   },
   {
    "duration": 339,
    "start_time": "2023-06-08T10:54:17.872Z"
   },
   {
    "duration": 142,
    "start_time": "2023-06-08T10:58:14.905Z"
   },
   {
    "duration": 205,
    "start_time": "2023-06-08T11:09:51.752Z"
   },
   {
    "duration": 198,
    "start_time": "2023-06-08T11:11:39.267Z"
   },
   {
    "duration": 199,
    "start_time": "2023-06-08T11:15:31.664Z"
   },
   {
    "duration": 108,
    "start_time": "2023-06-08T11:23:59.623Z"
   },
   {
    "duration": 9,
    "start_time": "2023-06-08T11:24:33.660Z"
   },
   {
    "duration": 391,
    "start_time": "2023-06-08T11:24:55.130Z"
   },
   {
    "duration": 241,
    "start_time": "2023-06-08T11:25:37.368Z"
   },
   {
    "duration": 249,
    "start_time": "2023-06-08T11:29:20.364Z"
   },
   {
    "duration": 220,
    "start_time": "2023-06-08T11:31:27.844Z"
   },
   {
    "duration": 131,
    "start_time": "2023-06-08T11:32:01.203Z"
   },
   {
    "duration": 235,
    "start_time": "2023-06-08T11:32:30.182Z"
   },
   {
    "duration": 119,
    "start_time": "2023-06-08T11:32:34.510Z"
   },
   {
    "duration": 205,
    "start_time": "2023-06-08T11:36:42.928Z"
   },
   {
    "duration": 131,
    "start_time": "2023-06-08T11:36:53.028Z"
   },
   {
    "duration": 6,
    "start_time": "2023-06-08T11:41:56.837Z"
   },
   {
    "duration": 29,
    "start_time": "2023-06-08T11:41:56.845Z"
   },
   {
    "duration": 18,
    "start_time": "2023-06-08T11:41:56.876Z"
   },
   {
    "duration": 386,
    "start_time": "2023-06-08T11:41:56.896Z"
   },
   {
    "duration": 34,
    "start_time": "2023-06-08T11:41:57.284Z"
   },
   {
    "duration": 148,
    "start_time": "2023-06-08T11:41:57.319Z"
   },
   {
    "duration": 200,
    "start_time": "2023-06-08T11:41:57.469Z"
   },
   {
    "duration": 171,
    "start_time": "2023-06-08T11:41:57.671Z"
   },
   {
    "duration": 3,
    "start_time": "2023-06-08T11:41:57.844Z"
   },
   {
    "duration": 8,
    "start_time": "2023-06-08T11:41:57.850Z"
   },
   {
    "duration": 6,
    "start_time": "2023-06-08T11:41:57.860Z"
   },
   {
    "duration": 9,
    "start_time": "2023-06-08T11:41:57.868Z"
   },
   {
    "duration": 55,
    "start_time": "2023-06-08T11:41:57.879Z"
   },
   {
    "duration": 13,
    "start_time": "2023-06-08T11:41:57.936Z"
   },
   {
    "duration": 17,
    "start_time": "2023-06-08T11:41:57.951Z"
   },
   {
    "duration": 44,
    "start_time": "2023-06-08T11:41:57.970Z"
   },
   {
    "duration": 20,
    "start_time": "2023-06-08T11:41:58.016Z"
   },
   {
    "duration": 6,
    "start_time": "2023-06-08T11:41:58.038Z"
   },
   {
    "duration": 12,
    "start_time": "2023-06-08T11:41:58.046Z"
   },
   {
    "duration": 771,
    "start_time": "2023-06-08T11:46:20.235Z"
   },
   {
    "duration": 7,
    "start_time": "2023-06-08T11:46:21.023Z"
   },
   {
    "duration": 14032,
    "start_time": "2023-06-08T11:46:21.031Z"
   },
   {
    "duration": 312,
    "start_time": "2023-06-08T11:46:35.065Z"
   },
   {
    "duration": 23,
    "start_time": "2023-06-08T11:46:35.378Z"
   },
   {
    "duration": 165,
    "start_time": "2023-06-08T11:46:35.406Z"
   },
   {
    "duration": 195,
    "start_time": "2023-06-08T11:46:35.573Z"
   },
   {
    "duration": 166,
    "start_time": "2023-06-08T11:46:35.770Z"
   },
   {
    "duration": 2,
    "start_time": "2023-06-08T11:46:35.937Z"
   },
   {
    "duration": 16,
    "start_time": "2023-06-08T11:46:35.941Z"
   },
   {
    "duration": 18,
    "start_time": "2023-06-08T11:46:35.958Z"
   },
   {
    "duration": 77,
    "start_time": "2023-06-08T11:46:35.977Z"
   },
   {
    "duration": 17,
    "start_time": "2023-06-08T11:46:36.057Z"
   },
   {
    "duration": 62,
    "start_time": "2023-06-08T11:46:36.076Z"
   },
   {
    "duration": 27,
    "start_time": "2023-06-08T11:46:36.140Z"
   },
   {
    "duration": 73,
    "start_time": "2023-06-08T11:46:36.168Z"
   },
   {
    "duration": 16,
    "start_time": "2023-06-08T11:46:36.243Z"
   },
   {
    "duration": 29,
    "start_time": "2023-06-08T11:46:36.261Z"
   },
   {
    "duration": 44,
    "start_time": "2023-06-08T11:46:36.299Z"
   },
   {
    "duration": 310,
    "start_time": "2023-06-08T12:00:40.512Z"
   },
   {
    "duration": 1298,
    "start_time": "2023-06-08T12:01:15.779Z"
   },
   {
    "duration": 114,
    "start_time": "2023-06-08T12:05:36.316Z"
   },
   {
    "duration": 229,
    "start_time": "2023-06-08T12:08:11.612Z"
   },
   {
    "duration": 226,
    "start_time": "2023-06-08T12:09:18.618Z"
   },
   {
    "duration": 454,
    "start_time": "2023-06-08T12:09:48.607Z"
   },
   {
    "duration": 286,
    "start_time": "2023-06-08T12:10:20.550Z"
   },
   {
    "duration": 134,
    "start_time": "2023-06-08T12:11:33.516Z"
   },
   {
    "duration": 137,
    "start_time": "2023-06-08T12:12:12.300Z"
   },
   {
    "duration": 190,
    "start_time": "2023-06-08T12:22:12.432Z"
   },
   {
    "duration": 187,
    "start_time": "2023-06-08T12:24:07.775Z"
   },
   {
    "duration": 189,
    "start_time": "2023-06-08T12:26:48.041Z"
   },
   {
    "duration": 113,
    "start_time": "2023-06-08T12:28:01.006Z"
   },
   {
    "duration": 413,
    "start_time": "2023-06-08T12:31:59.609Z"
   },
   {
    "duration": 10,
    "start_time": "2023-06-08T12:46:27.481Z"
   },
   {
    "duration": 168,
    "start_time": "2023-06-08T12:49:20.093Z"
   },
   {
    "duration": 546,
    "start_time": "2023-06-08T12:51:34.227Z"
   },
   {
    "duration": 332,
    "start_time": "2023-06-08T12:51:48.882Z"
   },
   {
    "duration": 49,
    "start_time": "2023-06-08T12:54:14.480Z"
   },
   {
    "duration": 229,
    "start_time": "2023-06-08T12:56:55.175Z"
   },
   {
    "duration": 200,
    "start_time": "2023-06-08T12:58:35.065Z"
   },
   {
    "duration": 996,
    "start_time": "2023-06-08T13:05:01.961Z"
   },
   {
    "duration": 893,
    "start_time": "2023-06-08T13:05:10.139Z"
   },
   {
    "duration": 442,
    "start_time": "2023-06-08T13:07:57.660Z"
   },
   {
    "duration": 4,
    "start_time": "2023-06-08T13:07:58.151Z"
   },
   {
    "duration": 3,
    "start_time": "2023-06-08T13:07:58.536Z"
   },
   {
    "duration": 263,
    "start_time": "2023-06-08T13:07:58.963Z"
   },
   {
    "duration": 12,
    "start_time": "2023-06-08T13:07:59.229Z"
   },
   {
    "duration": 160,
    "start_time": "2023-06-08T13:07:59.957Z"
   },
   {
    "duration": 201,
    "start_time": "2023-06-08T13:08:01.621Z"
   },
   {
    "duration": 119,
    "start_time": "2023-06-08T13:08:03.222Z"
   },
   {
    "duration": 1470,
    "start_time": "2023-06-08T13:08:04.836Z"
   },
   {
    "duration": 144,
    "start_time": "2023-06-08T13:08:06.309Z"
   },
   {
    "duration": 104,
    "start_time": "2023-06-08T13:08:07.232Z"
   },
   {
    "duration": 445,
    "start_time": "2023-06-08T13:08:09.232Z"
   },
   {
    "duration": 525,
    "start_time": "2023-06-08T13:08:15.832Z"
   },
   {
    "duration": 965,
    "start_time": "2023-06-08T13:08:29.101Z"
   },
   {
    "duration": 924,
    "start_time": "2023-06-08T13:08:31.937Z"
   },
   {
    "duration": 327,
    "start_time": "2023-06-08T13:12:32.100Z"
   },
   {
    "duration": 335,
    "start_time": "2023-06-08T13:14:47.117Z"
   },
   {
    "duration": 180,
    "start_time": "2023-06-08T13:14:57.126Z"
   },
   {
    "duration": 353,
    "start_time": "2023-06-08T13:15:44.113Z"
   },
   {
    "duration": 389,
    "start_time": "2023-06-08T13:15:52.134Z"
   },
   {
    "duration": 360,
    "start_time": "2023-06-08T13:16:13.218Z"
   },
   {
    "duration": 396,
    "start_time": "2023-06-08T13:16:29.718Z"
   },
   {
    "duration": 333,
    "start_time": "2023-06-08T13:16:46.435Z"
   },
   {
    "duration": 418,
    "start_time": "2023-06-08T13:17:02.336Z"
   },
   {
    "duration": 406,
    "start_time": "2023-06-08T13:17:24.980Z"
   },
   {
    "duration": 348,
    "start_time": "2023-06-08T13:17:43.416Z"
   },
   {
    "duration": 353,
    "start_time": "2023-06-08T13:18:03.618Z"
   },
   {
    "duration": 381,
    "start_time": "2023-06-08T13:19:34.995Z"
   },
   {
    "duration": 329,
    "start_time": "2023-06-08T13:19:52.436Z"
   },
   {
    "duration": 473,
    "start_time": "2023-06-08T13:20:06.559Z"
   },
   {
    "duration": 418,
    "start_time": "2023-06-08T13:20:24.982Z"
   },
   {
    "duration": 337,
    "start_time": "2023-06-08T13:20:44.930Z"
   },
   {
    "duration": 412,
    "start_time": "2023-06-08T13:20:58.111Z"
   },
   {
    "duration": 338,
    "start_time": "2023-06-08T13:21:19.023Z"
   },
   {
    "duration": 346,
    "start_time": "2023-06-08T13:21:35.316Z"
   },
   {
    "duration": 422,
    "start_time": "2023-06-08T13:21:43.115Z"
   },
   {
    "duration": 329,
    "start_time": "2023-06-08T13:22:03.172Z"
   },
   {
    "duration": 357,
    "start_time": "2023-06-08T13:22:23.576Z"
   },
   {
    "duration": 187,
    "start_time": "2023-06-08T13:28:53.320Z"
   },
   {
    "duration": 3,
    "start_time": "2023-06-08T13:29:41.414Z"
   },
   {
    "duration": 13,
    "start_time": "2023-06-08T13:29:41.419Z"
   },
   {
    "duration": 19,
    "start_time": "2023-06-08T13:29:41.433Z"
   },
   {
    "duration": 280,
    "start_time": "2023-06-08T13:29:41.453Z"
   },
   {
    "duration": 13,
    "start_time": "2023-06-08T13:29:41.736Z"
   },
   {
    "duration": 177,
    "start_time": "2023-06-08T13:29:41.751Z"
   },
   {
    "duration": 192,
    "start_time": "2023-06-08T13:29:41.929Z"
   },
   {
    "duration": 119,
    "start_time": "2023-06-08T13:29:42.122Z"
   },
   {
    "duration": 1226,
    "start_time": "2023-06-08T13:29:42.242Z"
   },
   {
    "duration": 163,
    "start_time": "2023-06-08T13:29:43.469Z"
   },
   {
    "duration": 98,
    "start_time": "2023-06-08T13:29:43.634Z"
   },
   {
    "duration": 385,
    "start_time": "2023-06-08T13:29:43.733Z"
   },
   {
    "duration": 951,
    "start_time": "2023-06-08T13:29:44.120Z"
   },
   {
    "duration": 344,
    "start_time": "2023-06-08T13:29:45.074Z"
   },
   {
    "duration": 3,
    "start_time": "2023-06-08T13:29:45.420Z"
   },
   {
    "duration": 45,
    "start_time": "2023-06-08T13:29:45.424Z"
   },
   {
    "duration": 51,
    "start_time": "2023-06-08T13:29:45.471Z"
   },
   {
    "duration": 378,
    "start_time": "2023-06-08T13:31:21.911Z"
   },
   {
    "duration": 452,
    "start_time": "2023-06-08T13:33:46.207Z"
   },
   {
    "duration": 173,
    "start_time": "2023-06-08T13:36:21.158Z"
   },
   {
    "duration": 456,
    "start_time": "2023-06-08T13:37:26.456Z"
   },
   {
    "duration": 412,
    "start_time": "2023-06-08T13:40:07.533Z"
   },
   {
    "duration": 162,
    "start_time": "2023-06-08T14:23:20.982Z"
   },
   {
    "duration": 499,
    "start_time": "2023-06-08T14:26:19.391Z"
   },
   {
    "duration": 4,
    "start_time": "2023-06-08T14:27:05.957Z"
   },
   {
    "duration": 43,
    "start_time": "2023-06-08T14:27:05.964Z"
   },
   {
    "duration": 20,
    "start_time": "2023-06-08T14:27:06.009Z"
   },
   {
    "duration": 287,
    "start_time": "2023-06-08T14:27:06.031Z"
   },
   {
    "duration": 12,
    "start_time": "2023-06-08T14:27:06.321Z"
   },
   {
    "duration": 171,
    "start_time": "2023-06-08T14:27:06.334Z"
   },
   {
    "duration": 177,
    "start_time": "2023-06-08T14:27:06.506Z"
   },
   {
    "duration": 132,
    "start_time": "2023-06-08T14:27:06.685Z"
   },
   {
    "duration": 1177,
    "start_time": "2023-06-08T14:27:06.819Z"
   },
   {
    "duration": 134,
    "start_time": "2023-06-08T14:27:07.999Z"
   },
   {
    "duration": 99,
    "start_time": "2023-06-08T14:27:08.136Z"
   },
   {
    "duration": 326,
    "start_time": "2023-06-08T14:27:08.237Z"
   },
   {
    "duration": 1583,
    "start_time": "2023-06-08T14:27:08.565Z"
   },
   {
    "duration": 394,
    "start_time": "2023-06-08T14:27:10.150Z"
   },
   {
    "duration": 135,
    "start_time": "2023-06-08T14:27:10.545Z"
   },
   {
    "duration": 367,
    "start_time": "2023-06-08T14:27:10.682Z"
   },
   {
    "duration": 0,
    "start_time": "2023-06-08T14:27:11.051Z"
   },
   {
    "duration": 449,
    "start_time": "2023-06-08T14:32:15.280Z"
   },
   {
    "duration": 82,
    "start_time": "2023-06-08T14:33:07.375Z"
   },
   {
    "duration": 99,
    "start_time": "2023-06-08T14:34:09.246Z"
   },
   {
    "duration": 374,
    "start_time": "2023-06-08T14:45:42.449Z"
   },
   {
    "duration": 292,
    "start_time": "2023-06-08T14:47:01.242Z"
   },
   {
    "duration": 232,
    "start_time": "2023-06-08T14:48:18.415Z"
   },
   {
    "duration": 126,
    "start_time": "2023-06-08T14:49:59.032Z"
   },
   {
    "duration": 104,
    "start_time": "2023-06-08T14:50:33.507Z"
   },
   {
    "duration": 109,
    "start_time": "2023-06-08T14:52:19.742Z"
   },
   {
    "duration": 113,
    "start_time": "2023-06-08T14:53:33.249Z"
   },
   {
    "duration": 109,
    "start_time": "2023-06-08T14:54:11.508Z"
   },
   {
    "duration": 105,
    "start_time": "2023-06-08T14:54:18.576Z"
   },
   {
    "duration": 101,
    "start_time": "2023-06-08T14:55:13.427Z"
   },
   {
    "duration": 1100,
    "start_time": "2023-06-08T15:32:30.845Z"
   },
   {
    "duration": 5,
    "start_time": "2023-06-08T15:32:31.950Z"
   },
   {
    "duration": 13357,
    "start_time": "2023-06-08T15:32:31.957Z"
   },
   {
    "duration": 55,
    "start_time": "2023-06-08T15:32:45.316Z"
   },
   {
    "duration": 17,
    "start_time": "2023-06-08T15:32:45.374Z"
   },
   {
    "duration": 77,
    "start_time": "2023-06-08T15:32:45.392Z"
   },
   {
    "duration": 115,
    "start_time": "2023-06-08T15:32:45.471Z"
   },
   {
    "duration": 60,
    "start_time": "2023-06-08T15:32:45.588Z"
   },
   {
    "duration": 1335,
    "start_time": "2023-06-08T15:32:45.651Z"
   },
   {
    "duration": 75,
    "start_time": "2023-06-08T15:32:46.988Z"
   },
   {
    "duration": 39,
    "start_time": "2023-06-08T15:32:47.065Z"
   },
   {
    "duration": 283,
    "start_time": "2023-06-08T15:32:47.107Z"
   },
   {
    "duration": 2037,
    "start_time": "2023-06-08T15:32:47.391Z"
   },
   {
    "duration": 583,
    "start_time": "2023-06-08T15:32:49.432Z"
   },
   {
    "duration": 103,
    "start_time": "2023-06-08T15:32:50.019Z"
   },
   {
    "duration": 137,
    "start_time": "2023-06-08T15:32:50.124Z"
   },
   {
    "duration": 71,
    "start_time": "2023-06-08T15:32:50.263Z"
   },
   {
    "duration": 44,
    "start_time": "2023-06-08T15:32:50.336Z"
   },
   {
    "duration": 224,
    "start_time": "2023-06-08T15:44:00.412Z"
   },
   {
    "duration": 139,
    "start_time": "2023-06-08T15:44:15.883Z"
   },
   {
    "duration": 119,
    "start_time": "2023-06-08T15:45:11.778Z"
   },
   {
    "duration": 225,
    "start_time": "2023-06-08T15:49:00.168Z"
   },
   {
    "duration": 74,
    "start_time": "2023-06-08T15:49:11.612Z"
   },
   {
    "duration": 90,
    "start_time": "2023-06-08T15:49:25.576Z"
   },
   {
    "duration": 144,
    "start_time": "2023-06-08T15:49:43.771Z"
   },
   {
    "duration": 62,
    "start_time": "2023-06-08T15:51:21.441Z"
   },
   {
    "duration": 10,
    "start_time": "2023-06-08T15:51:36.361Z"
   },
   {
    "duration": 984,
    "start_time": "2023-06-08T15:51:43.915Z"
   },
   {
    "duration": 5,
    "start_time": "2023-06-08T15:51:44.901Z"
   },
   {
    "duration": 13978,
    "start_time": "2023-06-08T15:51:44.908Z"
   },
   {
    "duration": 69,
    "start_time": "2023-06-08T15:51:58.889Z"
   },
   {
    "duration": 16,
    "start_time": "2023-06-08T15:51:58.961Z"
   },
   {
    "duration": 93,
    "start_time": "2023-06-08T15:51:58.979Z"
   },
   {
    "duration": 114,
    "start_time": "2023-06-08T15:51:59.074Z"
   },
   {
    "duration": 62,
    "start_time": "2023-06-08T15:51:59.190Z"
   },
   {
    "duration": 1392,
    "start_time": "2023-06-08T15:51:59.254Z"
   },
   {
    "duration": 75,
    "start_time": "2023-06-08T15:52:00.648Z"
   },
   {
    "duration": 51,
    "start_time": "2023-06-08T15:52:00.725Z"
   },
   {
    "duration": 287,
    "start_time": "2023-06-08T15:52:00.778Z"
   },
   {
    "duration": 896,
    "start_time": "2023-06-08T15:52:01.067Z"
   },
   {
    "duration": 477,
    "start_time": "2023-06-08T15:52:01.967Z"
   },
   {
    "duration": 76,
    "start_time": "2023-06-08T15:52:02.446Z"
   },
   {
    "duration": 145,
    "start_time": "2023-06-08T15:52:02.524Z"
   },
   {
    "duration": 67,
    "start_time": "2023-06-08T15:52:02.671Z"
   },
   {
    "duration": 34,
    "start_time": "2023-06-08T15:52:02.742Z"
   },
   {
    "duration": 57,
    "start_time": "2023-06-08T15:52:20.294Z"
   },
   {
    "duration": 260,
    "start_time": "2023-06-08T15:52:38.844Z"
   },
   {
    "duration": 60,
    "start_time": "2023-06-08T15:52:42.143Z"
   },
   {
    "duration": 155,
    "start_time": "2023-06-08T15:52:58.326Z"
   },
   {
    "duration": 54,
    "start_time": "2023-06-08T15:53:04.040Z"
   },
   {
    "duration": 63,
    "start_time": "2023-06-08T15:53:19.354Z"
   },
   {
    "duration": 96,
    "start_time": "2023-06-08T15:53:40.420Z"
   },
   {
    "duration": 170,
    "start_time": "2023-06-08T15:53:47.596Z"
   },
   {
    "duration": 68,
    "start_time": "2023-06-08T15:53:50.195Z"
   },
   {
    "duration": 667,
    "start_time": "2023-06-08T15:54:21.493Z"
   },
   {
    "duration": 122,
    "start_time": "2023-06-08T15:54:37.653Z"
   },
   {
    "duration": 38,
    "start_time": "2023-06-08T15:58:08.991Z"
   },
   {
    "duration": 81,
    "start_time": "2023-06-08T16:05:04.022Z"
   },
   {
    "duration": 1349,
    "start_time": "2023-06-08T16:07:24.256Z"
   },
   {
    "duration": 1580,
    "start_time": "2023-06-08T16:07:34.508Z"
   },
   {
    "duration": 1470,
    "start_time": "2023-06-08T16:22:39.378Z"
   },
   {
    "duration": 107,
    "start_time": "2023-06-08T16:29:51.764Z"
   },
   {
    "duration": 73,
    "start_time": "2023-06-08T16:30:34.494Z"
   },
   {
    "duration": 43,
    "start_time": "2023-06-08T16:35:31.375Z"
   },
   {
    "duration": 60,
    "start_time": "2023-06-08T16:35:34.506Z"
   },
   {
    "duration": 177,
    "start_time": "2023-06-08T16:38:15.652Z"
   },
   {
    "duration": 269,
    "start_time": "2023-06-08T16:38:34.818Z"
   },
   {
    "duration": 937,
    "start_time": "2023-06-08T16:42:36.054Z"
   },
   {
    "duration": 4,
    "start_time": "2023-06-08T16:42:36.993Z"
   },
   {
    "duration": 14985,
    "start_time": "2023-06-08T16:42:36.999Z"
   },
   {
    "duration": 98,
    "start_time": "2023-06-08T16:42:51.987Z"
   },
   {
    "duration": 23,
    "start_time": "2023-06-08T16:42:52.087Z"
   },
   {
    "duration": 77,
    "start_time": "2023-06-08T16:42:52.111Z"
   },
   {
    "duration": 116,
    "start_time": "2023-06-08T16:42:52.189Z"
   },
   {
    "duration": 59,
    "start_time": "2023-06-08T16:42:52.307Z"
   },
   {
    "duration": 1443,
    "start_time": "2023-06-08T16:42:52.368Z"
   },
   {
    "duration": 75,
    "start_time": "2023-06-08T16:42:53.814Z"
   },
   {
    "duration": 39,
    "start_time": "2023-06-08T16:42:53.890Z"
   },
   {
    "duration": 325,
    "start_time": "2023-06-08T16:42:53.930Z"
   },
   {
    "duration": 908,
    "start_time": "2023-06-08T16:42:54.258Z"
   },
   {
    "duration": 509,
    "start_time": "2023-06-08T16:42:55.168Z"
   },
   {
    "duration": 81,
    "start_time": "2023-06-08T16:42:55.679Z"
   },
   {
    "duration": 124,
    "start_time": "2023-06-08T16:42:55.762Z"
   },
   {
    "duration": 75,
    "start_time": "2023-06-08T16:42:55.888Z"
   },
   {
    "duration": 31,
    "start_time": "2023-06-08T16:42:55.965Z"
   },
   {
    "duration": 41,
    "start_time": "2023-06-08T17:36:13.036Z"
   },
   {
    "duration": 810,
    "start_time": "2023-06-08T17:36:21.878Z"
   },
   {
    "duration": 3,
    "start_time": "2023-06-08T17:36:22.690Z"
   },
   {
    "duration": 4718,
    "start_time": "2023-06-08T17:36:22.694Z"
   },
   {
    "duration": 45,
    "start_time": "2023-06-08T17:36:27.413Z"
   },
   {
    "duration": 13,
    "start_time": "2023-06-08T17:36:27.460Z"
   },
   {
    "duration": 75,
    "start_time": "2023-06-08T17:36:27.474Z"
   },
   {
    "duration": 178,
    "start_time": "2023-06-08T17:36:27.550Z"
   },
   {
    "duration": 56,
    "start_time": "2023-06-08T17:36:27.729Z"
   },
   {
    "duration": 1045,
    "start_time": "2023-06-08T17:36:27.787Z"
   },
   {
    "duration": 71,
    "start_time": "2023-06-08T17:36:28.833Z"
   },
   {
    "duration": 34,
    "start_time": "2023-06-08T17:36:28.906Z"
   },
   {
    "duration": 220,
    "start_time": "2023-06-08T17:36:28.941Z"
   },
   {
    "duration": 1637,
    "start_time": "2023-06-08T17:36:29.163Z"
   },
   {
    "duration": 428,
    "start_time": "2023-06-08T17:36:30.802Z"
   },
   {
    "duration": 72,
    "start_time": "2023-06-08T17:36:31.232Z"
   },
   {
    "duration": 87,
    "start_time": "2023-06-08T17:36:31.306Z"
   },
   {
    "duration": 70,
    "start_time": "2023-06-08T17:36:31.395Z"
   },
   {
    "duration": 31,
    "start_time": "2023-06-08T17:36:31.467Z"
   },
   {
    "duration": 135,
    "start_time": "2023-06-08T17:43:32.728Z"
   },
   {
    "duration": 107,
    "start_time": "2023-06-08T17:47:42.042Z"
   },
   {
    "duration": 67,
    "start_time": "2023-06-08T17:48:15.535Z"
   },
   {
    "duration": 1034,
    "start_time": "2023-06-08T17:51:02.408Z"
   },
   {
    "duration": 59,
    "start_time": "2023-06-08T17:54:36.253Z"
   },
   {
    "duration": 53,
    "start_time": "2023-06-08T17:58:06.937Z"
   },
   {
    "duration": 92,
    "start_time": "2023-06-08T17:58:57.813Z"
   },
   {
    "duration": 70,
    "start_time": "2023-06-08T18:00:43.734Z"
   },
   {
    "duration": 235,
    "start_time": "2023-06-08T18:03:23.733Z"
   },
   {
    "duration": 281,
    "start_time": "2023-06-08T18:05:21.020Z"
   },
   {
    "duration": 346,
    "start_time": "2023-06-08T18:05:46.928Z"
   },
   {
    "duration": 69,
    "start_time": "2023-06-08T18:07:13.149Z"
   },
   {
    "duration": 31,
    "start_time": "2023-06-08T18:10:01.741Z"
   },
   {
    "duration": 34,
    "start_time": "2023-06-08T18:10:59.265Z"
   },
   {
    "duration": 1067,
    "start_time": "2023-06-09T08:54:25.995Z"
   },
   {
    "duration": 4,
    "start_time": "2023-06-09T08:54:27.065Z"
   },
   {
    "duration": 12540,
    "start_time": "2023-06-09T08:54:27.071Z"
   },
   {
    "duration": 39,
    "start_time": "2023-06-09T08:54:39.614Z"
   },
   {
    "duration": 17,
    "start_time": "2023-06-09T08:54:39.654Z"
   },
   {
    "duration": 73,
    "start_time": "2023-06-09T08:54:39.672Z"
   },
   {
    "duration": 205,
    "start_time": "2023-06-09T08:54:39.747Z"
   },
   {
    "duration": 145,
    "start_time": "2023-06-09T08:54:39.954Z"
   },
   {
    "duration": 1263,
    "start_time": "2023-06-09T08:54:40.101Z"
   },
   {
    "duration": 77,
    "start_time": "2023-06-09T08:54:41.367Z"
   },
   {
    "duration": 37,
    "start_time": "2023-06-09T08:54:41.446Z"
   },
   {
    "duration": 355,
    "start_time": "2023-06-09T08:54:41.485Z"
   },
   {
    "duration": 288,
    "start_time": "2023-06-09T08:54:41.843Z"
   },
   {
    "duration": 499,
    "start_time": "2023-06-09T08:54:42.133Z"
   },
   {
    "duration": 75,
    "start_time": "2023-06-09T08:54:42.634Z"
   },
   {
    "duration": 131,
    "start_time": "2023-06-09T08:54:42.711Z"
   },
   {
    "duration": 65,
    "start_time": "2023-06-09T08:54:42.843Z"
   },
   {
    "duration": 33,
    "start_time": "2023-06-09T08:54:42.910Z"
   },
   {
    "duration": 117,
    "start_time": "2023-06-09T08:55:26.621Z"
   },
   {
    "duration": 772,
    "start_time": "2023-06-09T09:07:40.865Z"
   },
   {
    "duration": 4,
    "start_time": "2023-06-09T09:07:41.640Z"
   },
   {
    "duration": 13196,
    "start_time": "2023-06-09T09:07:41.646Z"
   },
   {
    "duration": 42,
    "start_time": "2023-06-09T09:07:54.844Z"
   },
   {
    "duration": 15,
    "start_time": "2023-06-09T09:07:54.888Z"
   },
   {
    "duration": 78,
    "start_time": "2023-06-09T09:07:54.905Z"
   },
   {
    "duration": 182,
    "start_time": "2023-06-09T09:07:54.984Z"
   },
   {
    "duration": 135,
    "start_time": "2023-06-09T09:07:55.168Z"
   },
   {
    "duration": 1153,
    "start_time": "2023-06-09T09:07:55.305Z"
   },
   {
    "duration": 72,
    "start_time": "2023-06-09T09:07:56.460Z"
   },
   {
    "duration": 33,
    "start_time": "2023-06-09T09:07:56.534Z"
   },
   {
    "duration": 235,
    "start_time": "2023-06-09T09:07:56.569Z"
   },
   {
    "duration": 277,
    "start_time": "2023-06-09T09:07:56.806Z"
   },
   {
    "duration": 463,
    "start_time": "2023-06-09T09:07:57.086Z"
   },
   {
    "duration": 70,
    "start_time": "2023-06-09T09:07:57.556Z"
   },
   {
    "duration": 99,
    "start_time": "2023-06-09T09:07:57.628Z"
   },
   {
    "duration": 64,
    "start_time": "2023-06-09T09:07:57.729Z"
   },
   {
    "duration": 31,
    "start_time": "2023-06-09T09:07:57.794Z"
   },
   {
    "duration": 1096,
    "start_time": "2023-06-09T09:14:59.380Z"
   },
   {
    "duration": 1163,
    "start_time": "2023-06-09T09:15:27.156Z"
   },
   {
    "duration": 243,
    "start_time": "2023-06-09T09:37:56.276Z"
   },
   {
    "duration": 144,
    "start_time": "2023-06-09T09:38:14.088Z"
   },
   {
    "duration": 164,
    "start_time": "2023-06-09T09:39:55.384Z"
   },
   {
    "duration": 54,
    "start_time": "2023-06-09T09:40:05.790Z"
   },
   {
    "duration": 33,
    "start_time": "2023-06-09T09:40:18.206Z"
   },
   {
    "duration": 715,
    "start_time": "2023-06-09T09:48:04.518Z"
   },
   {
    "duration": 3,
    "start_time": "2023-06-09T09:48:05.235Z"
   },
   {
    "duration": 12645,
    "start_time": "2023-06-09T09:48:05.240Z"
   },
   {
    "duration": 43,
    "start_time": "2023-06-09T09:48:17.887Z"
   },
   {
    "duration": 14,
    "start_time": "2023-06-09T09:48:17.933Z"
   },
   {
    "duration": 70,
    "start_time": "2023-06-09T09:48:17.949Z"
   },
   {
    "duration": 183,
    "start_time": "2023-06-09T09:48:18.022Z"
   },
   {
    "duration": 138,
    "start_time": "2023-06-09T09:48:18.207Z"
   },
   {
    "duration": 1150,
    "start_time": "2023-06-09T09:48:18.347Z"
   },
   {
    "duration": 74,
    "start_time": "2023-06-09T09:48:19.499Z"
   },
   {
    "duration": 35,
    "start_time": "2023-06-09T09:48:19.575Z"
   },
   {
    "duration": 254,
    "start_time": "2023-06-09T09:48:19.611Z"
   },
   {
    "duration": 288,
    "start_time": "2023-06-09T09:48:19.867Z"
   },
   {
    "duration": 485,
    "start_time": "2023-06-09T09:48:20.158Z"
   },
   {
    "duration": 84,
    "start_time": "2023-06-09T09:48:20.646Z"
   },
   {
    "duration": 112,
    "start_time": "2023-06-09T09:48:20.733Z"
   },
   {
    "duration": 69,
    "start_time": "2023-06-09T09:48:20.848Z"
   },
   {
    "duration": 32,
    "start_time": "2023-06-09T09:48:20.919Z"
   },
   {
    "duration": 41,
    "start_time": "2023-06-09T10:26:21.206Z"
   },
   {
    "duration": 784,
    "start_time": "2023-06-09T10:26:24.705Z"
   },
   {
    "duration": 3,
    "start_time": "2023-06-09T10:26:25.491Z"
   },
   {
    "duration": 5144,
    "start_time": "2023-06-09T10:26:25.496Z"
   },
   {
    "duration": 31,
    "start_time": "2023-06-09T10:26:30.642Z"
   },
   {
    "duration": 29,
    "start_time": "2023-06-09T10:26:30.675Z"
   },
   {
    "duration": 122,
    "start_time": "2023-06-09T10:26:30.706Z"
   },
   {
    "duration": 102,
    "start_time": "2023-06-09T10:26:30.830Z"
   },
   {
    "duration": 0,
    "start_time": "2023-06-09T10:26:30.933Z"
   },
   {
    "duration": 0,
    "start_time": "2023-06-09T10:26:30.935Z"
   },
   {
    "duration": 0,
    "start_time": "2023-06-09T10:26:30.936Z"
   },
   {
    "duration": 0,
    "start_time": "2023-06-09T10:26:30.936Z"
   },
   {
    "duration": 0,
    "start_time": "2023-06-09T10:26:30.937Z"
   },
   {
    "duration": 0,
    "start_time": "2023-06-09T10:26:30.938Z"
   },
   {
    "duration": 0,
    "start_time": "2023-06-09T10:26:30.939Z"
   },
   {
    "duration": 0,
    "start_time": "2023-06-09T10:26:30.940Z"
   },
   {
    "duration": 0,
    "start_time": "2023-06-09T10:26:30.941Z"
   },
   {
    "duration": 0,
    "start_time": "2023-06-09T10:26:30.942Z"
   },
   {
    "duration": 0,
    "start_time": "2023-06-09T10:26:30.942Z"
   },
   {
    "duration": 165,
    "start_time": "2023-06-09T10:28:28.367Z"
   },
   {
    "duration": 140,
    "start_time": "2023-06-09T12:37:23.030Z"
   },
   {
    "duration": 284,
    "start_time": "2023-06-09T12:45:10.980Z"
   },
   {
    "duration": 287,
    "start_time": "2023-06-09T12:46:18.130Z"
   },
   {
    "duration": 391,
    "start_time": "2023-06-09T12:47:00.943Z"
   },
   {
    "duration": 252,
    "start_time": "2023-06-09T12:52:08.645Z"
   },
   {
    "duration": 272,
    "start_time": "2023-06-09T12:52:24.198Z"
   },
   {
    "duration": 456,
    "start_time": "2023-06-09T12:52:34.184Z"
   },
   {
    "duration": 280,
    "start_time": "2023-06-09T12:57:34.907Z"
   },
   {
    "duration": 361,
    "start_time": "2023-06-09T12:57:47.682Z"
   },
   {
    "duration": 73,
    "start_time": "2023-06-09T13:04:42.207Z"
   },
   {
    "duration": 798,
    "start_time": "2023-06-09T14:04:53.240Z"
   },
   {
    "duration": 4,
    "start_time": "2023-06-09T14:04:54.041Z"
   },
   {
    "duration": 13125,
    "start_time": "2023-06-09T14:04:54.047Z"
   },
   {
    "duration": 40,
    "start_time": "2023-06-09T14:05:07.174Z"
   },
   {
    "duration": 16,
    "start_time": "2023-06-09T14:05:07.216Z"
   },
   {
    "duration": 75,
    "start_time": "2023-06-09T14:05:07.234Z"
   },
   {
    "duration": 165,
    "start_time": "2023-06-09T14:05:07.311Z"
   },
   {
    "duration": 142,
    "start_time": "2023-06-09T14:05:07.478Z"
   },
   {
    "duration": 3405,
    "start_time": "2023-06-09T14:05:07.621Z"
   },
   {
    "duration": 73,
    "start_time": "2023-06-09T14:05:11.028Z"
   },
   {
    "duration": 35,
    "start_time": "2023-06-09T14:05:11.103Z"
   },
   {
    "duration": 268,
    "start_time": "2023-06-09T14:05:11.139Z"
   },
   {
    "duration": 273,
    "start_time": "2023-06-09T14:05:11.408Z"
   },
   {
    "duration": 416,
    "start_time": "2023-06-09T14:05:11.684Z"
   },
   {
    "duration": 75,
    "start_time": "2023-06-09T14:05:12.102Z"
   },
   {
    "duration": 112,
    "start_time": "2023-06-09T14:05:12.179Z"
   },
   {
    "duration": 64,
    "start_time": "2023-06-09T14:05:12.293Z"
   },
   {
    "duration": 65,
    "start_time": "2023-06-09T14:05:12.359Z"
   },
   {
    "duration": 180,
    "start_time": "2023-06-09T17:45:07.822Z"
   },
   {
    "duration": 198,
    "start_time": "2023-06-09T17:46:07.841Z"
   },
   {
    "duration": 181,
    "start_time": "2023-06-09T17:46:30.639Z"
   },
   {
    "duration": 195,
    "start_time": "2023-06-09T17:47:14.043Z"
   },
   {
    "duration": 133,
    "start_time": "2023-06-09T17:47:22.196Z"
   },
   {
    "duration": 173,
    "start_time": "2023-06-09T17:47:37.785Z"
   },
   {
    "duration": 169,
    "start_time": "2023-06-09T17:47:55.920Z"
   },
   {
    "duration": 1130,
    "start_time": "2023-06-09T17:51:49.394Z"
   },
   {
    "duration": 74,
    "start_time": "2023-06-09T17:53:24.698Z"
   },
   {
    "duration": 63,
    "start_time": "2023-06-09T17:53:25.590Z"
   },
   {
    "duration": 63,
    "start_time": "2023-06-09T17:53:26.230Z"
   },
   {
    "duration": 64,
    "start_time": "2023-06-09T17:53:26.855Z"
   },
   {
    "duration": 62,
    "start_time": "2023-06-09T17:53:27.511Z"
   },
   {
    "duration": 730,
    "start_time": "2023-06-09T17:56:30.173Z"
   },
   {
    "duration": 3,
    "start_time": "2023-06-09T17:56:30.906Z"
   },
   {
    "duration": 12178,
    "start_time": "2023-06-09T17:56:30.910Z"
   },
   {
    "duration": 82,
    "start_time": "2023-06-09T17:56:43.090Z"
   },
   {
    "duration": 15,
    "start_time": "2023-06-09T17:56:43.174Z"
   },
   {
    "duration": 77,
    "start_time": "2023-06-09T17:56:43.191Z"
   },
   {
    "duration": 158,
    "start_time": "2023-06-09T17:56:43.269Z"
   },
   {
    "duration": 138,
    "start_time": "2023-06-09T17:56:43.428Z"
   },
   {
    "duration": 1225,
    "start_time": "2023-06-09T17:56:43.568Z"
   },
   {
    "duration": 73,
    "start_time": "2023-06-09T17:56:44.794Z"
   },
   {
    "duration": 34,
    "start_time": "2023-06-09T17:56:44.868Z"
   },
   {
    "duration": 260,
    "start_time": "2023-06-09T17:56:44.904Z"
   },
   {
    "duration": 273,
    "start_time": "2023-06-09T17:56:45.166Z"
   },
   {
    "duration": 413,
    "start_time": "2023-06-09T17:56:45.441Z"
   },
   {
    "duration": 74,
    "start_time": "2023-06-09T17:56:45.855Z"
   },
   {
    "duration": 94,
    "start_time": "2023-06-09T17:56:45.930Z"
   },
   {
    "duration": 65,
    "start_time": "2023-06-09T17:56:46.026Z"
   },
   {
    "duration": 60,
    "start_time": "2023-06-09T17:56:46.093Z"
   },
   {
    "duration": 939,
    "start_time": "2023-06-11T07:37:02.340Z"
   },
   {
    "duration": 3,
    "start_time": "2023-06-11T07:37:03.282Z"
   },
   {
    "duration": 8726,
    "start_time": "2023-06-11T07:37:03.287Z"
   },
   {
    "duration": 224,
    "start_time": "2023-06-11T07:37:12.015Z"
   },
   {
    "duration": 16,
    "start_time": "2023-06-11T07:37:12.241Z"
   },
   {
    "duration": 156,
    "start_time": "2023-06-11T07:37:12.259Z"
   },
   {
    "duration": 233,
    "start_time": "2023-06-11T07:37:12.417Z"
   },
   {
    "duration": 202,
    "start_time": "2023-06-11T07:37:12.652Z"
   },
   {
    "duration": 1289,
    "start_time": "2023-06-11T07:37:12.856Z"
   },
   {
    "duration": 131,
    "start_time": "2023-06-11T07:37:14.148Z"
   },
   {
    "duration": 94,
    "start_time": "2023-06-11T07:37:14.281Z"
   },
   {
    "duration": 317,
    "start_time": "2023-06-11T07:37:14.377Z"
   },
   {
    "duration": 336,
    "start_time": "2023-06-11T07:37:14.696Z"
   },
   {
    "duration": 416,
    "start_time": "2023-06-11T07:37:15.034Z"
   },
   {
    "duration": 132,
    "start_time": "2023-06-11T07:37:15.452Z"
   },
   {
    "duration": 103,
    "start_time": "2023-06-11T07:37:15.586Z"
   },
   {
    "duration": 124,
    "start_time": "2023-06-11T07:37:15.690Z"
   },
   {
    "duration": 121,
    "start_time": "2023-06-11T07:37:15.816Z"
   },
   {
    "duration": 222,
    "start_time": "2023-06-11T07:37:48.349Z"
   },
   {
    "duration": 355,
    "start_time": "2023-06-11T07:41:12.573Z"
   },
   {
    "duration": 1184,
    "start_time": "2023-06-11T07:42:55.289Z"
   },
   {
    "duration": 750,
    "start_time": "2023-06-11T11:26:51.748Z"
   },
   {
    "duration": 5,
    "start_time": "2023-06-11T11:26:52.500Z"
   },
   {
    "duration": 12328,
    "start_time": "2023-06-11T11:26:52.507Z"
   },
   {
    "duration": 44,
    "start_time": "2023-06-11T11:27:04.837Z"
   },
   {
    "duration": 14,
    "start_time": "2023-06-11T11:27:04.882Z"
   },
   {
    "duration": 73,
    "start_time": "2023-06-11T11:27:04.898Z"
   },
   {
    "duration": 169,
    "start_time": "2023-06-11T11:27:04.973Z"
   },
   {
    "duration": 138,
    "start_time": "2023-06-11T11:27:05.144Z"
   },
   {
    "duration": 1171,
    "start_time": "2023-06-11T11:27:05.284Z"
   },
   {
    "duration": 72,
    "start_time": "2023-06-11T11:27:06.458Z"
   },
   {
    "duration": 35,
    "start_time": "2023-06-11T11:27:06.532Z"
   },
   {
    "duration": 1084,
    "start_time": "2023-06-11T11:27:06.569Z"
   },
   {
    "duration": 283,
    "start_time": "2023-06-11T11:27:07.655Z"
   },
   {
    "duration": 433,
    "start_time": "2023-06-11T11:27:07.940Z"
   },
   {
    "duration": 69,
    "start_time": "2023-06-11T11:27:08.375Z"
   },
   {
    "duration": 107,
    "start_time": "2023-06-11T11:27:08.446Z"
   },
   {
    "duration": 66,
    "start_time": "2023-06-11T11:27:08.555Z"
   },
   {
    "duration": 61,
    "start_time": "2023-06-11T11:27:08.623Z"
   },
   {
    "duration": 44,
    "start_time": "2023-10-14T12:15:53.050Z"
   },
   {
    "duration": 677,
    "start_time": "2023-10-14T12:17:28.459Z"
   },
   {
    "duration": 3,
    "start_time": "2023-10-14T12:17:29.139Z"
   },
   {
    "duration": 9410,
    "start_time": "2023-10-14T12:17:29.143Z"
   },
   {
    "duration": 246,
    "start_time": "2023-10-14T12:17:38.555Z"
   },
   {
    "duration": 12,
    "start_time": "2023-10-14T12:17:38.802Z"
   },
   {
    "duration": 149,
    "start_time": "2023-10-14T12:17:38.816Z"
   },
   {
    "duration": 250,
    "start_time": "2023-10-14T12:17:38.966Z"
   },
   {
    "duration": 225,
    "start_time": "2023-10-14T12:17:39.217Z"
   },
   {
    "duration": 1133,
    "start_time": "2023-10-14T12:17:39.443Z"
   },
   {
    "duration": 168,
    "start_time": "2023-10-14T12:17:40.578Z"
   },
   {
    "duration": 105,
    "start_time": "2023-10-14T12:17:40.747Z"
   },
   {
    "duration": 1089,
    "start_time": "2023-10-14T12:17:40.853Z"
   },
   {
    "duration": 301,
    "start_time": "2023-10-14T12:17:41.943Z"
   },
   {
    "duration": 398,
    "start_time": "2023-10-14T12:17:42.246Z"
   },
   {
    "duration": 173,
    "start_time": "2023-10-14T12:17:42.646Z"
   },
   {
    "duration": 88,
    "start_time": "2023-10-14T12:17:42.820Z"
   },
   {
    "duration": 142,
    "start_time": "2023-10-14T12:17:42.910Z"
   },
   {
    "duration": 142,
    "start_time": "2023-10-14T12:17:43.053Z"
   }
  ],
  "colab": {
   "provenance": []
  },
  "kernelspec": {
   "display_name": "Python 3 (ipykernel)",
   "language": "python",
   "name": "python3"
  },
  "language_info": {
   "codemirror_mode": {
    "name": "ipython",
    "version": 3
   },
   "file_extension": ".py",
   "mimetype": "text/x-python",
   "name": "python",
   "nbconvert_exporter": "python",
   "pygments_lexer": "ipython3",
   "version": "3.9.5"
  },
  "toc": {
   "base_numbering": 1,
   "nav_menu": {},
   "number_sections": true,
   "sideBar": true,
   "skip_h1_title": true,
   "title_cell": "Table of Contents",
   "title_sidebar": "Contents",
   "toc_cell": false,
   "toc_position": {},
   "toc_section_display": true,
   "toc_window_display": false
  }
 },
 "nbformat": 4,
 "nbformat_minor": 1
}
